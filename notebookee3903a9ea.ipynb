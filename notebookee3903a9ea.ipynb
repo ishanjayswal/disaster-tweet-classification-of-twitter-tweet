{
 "cells": [
  {
   "cell_type": "code",
   "execution_count": 1,
   "id": "00b96b29",
   "metadata": {
    "_cell_guid": "b1076dfc-b9ad-4769-8c92-a6c4dae69d19",
    "_uuid": "8f2839f25d086af736a60e9eeb907d3b93b6e0e5",
    "execution": {
     "iopub.execute_input": "2024-02-14T15:17:00.198973Z",
     "iopub.status.busy": "2024-02-14T15:17:00.198187Z",
     "iopub.status.idle": "2024-02-14T15:17:03.094612Z",
     "shell.execute_reply": "2024-02-14T15:17:03.093292Z"
    },
    "papermill": {
     "duration": 2.920821,
     "end_time": "2024-02-14T15:17:03.097591",
     "exception": false,
     "start_time": "2024-02-14T15:17:00.176770",
     "status": "completed"
    },
    "tags": []
   },
   "outputs": [],
   "source": [
    "import numpy as np \n",
    "import pandas as pd \n",
    "\n",
    "# For Preprocesssing Text Data\n",
    "import nltk\n",
    "from nltk.tokenize import word_tokenize\n",
    "from nltk.corpus import stopwords\n",
    "from nltk.stem import WordNetLemmatizer\n",
    "\n",
    "# Feature Extraction\n",
    "from sklearn.feature_extraction.text import TfidfVectorizer\n",
    "\n",
    "# Import the train test split\n",
    "from sklearn.model_selection import train_test_split\n",
    "\n",
    "# Check Performance\n",
    "from sklearn.metrics import classification_report"
   ]
  },
  {
   "cell_type": "code",
   "execution_count": 2,
   "id": "f59c81ae",
   "metadata": {
    "execution": {
     "iopub.execute_input": "2024-02-14T15:17:03.133383Z",
     "iopub.status.busy": "2024-02-14T15:17:03.132719Z",
     "iopub.status.idle": "2024-02-14T15:17:03.203725Z",
     "shell.execute_reply": "2024-02-14T15:17:03.202334Z"
    },
    "papermill": {
     "duration": 0.091985,
     "end_time": "2024-02-14T15:17:03.206419",
     "exception": false,
     "start_time": "2024-02-14T15:17:03.114434",
     "status": "completed"
    },
    "tags": []
   },
   "outputs": [],
   "source": [
    "df = pd.read_csv('/kaggle/input/ipba-17-nlp-with-disaster-tweets-2024/train.csv')"
   ]
  },
  {
   "cell_type": "code",
   "execution_count": 3,
   "id": "fd27b324",
   "metadata": {
    "execution": {
     "iopub.execute_input": "2024-02-14T15:17:03.242375Z",
     "iopub.status.busy": "2024-02-14T15:17:03.241891Z",
     "iopub.status.idle": "2024-02-14T15:17:03.263401Z",
     "shell.execute_reply": "2024-02-14T15:17:03.262171Z"
    },
    "papermill": {
     "duration": 0.042824,
     "end_time": "2024-02-14T15:17:03.266184",
     "exception": false,
     "start_time": "2024-02-14T15:17:03.223360",
     "status": "completed"
    },
    "tags": []
   },
   "outputs": [
    {
     "data": {
      "text/html": [
       "<div>\n",
       "<style scoped>\n",
       "    .dataframe tbody tr th:only-of-type {\n",
       "        vertical-align: middle;\n",
       "    }\n",
       "\n",
       "    .dataframe tbody tr th {\n",
       "        vertical-align: top;\n",
       "    }\n",
       "\n",
       "    .dataframe thead th {\n",
       "        text-align: right;\n",
       "    }\n",
       "</style>\n",
       "<table border=\"1\" class=\"dataframe\">\n",
       "  <thead>\n",
       "    <tr style=\"text-align: right;\">\n",
       "      <th></th>\n",
       "      <th>id</th>\n",
       "      <th>keyword</th>\n",
       "      <th>location</th>\n",
       "      <th>text</th>\n",
       "      <th>target</th>\n",
       "    </tr>\n",
       "  </thead>\n",
       "  <tbody>\n",
       "    <tr>\n",
       "      <th>0</th>\n",
       "      <td>1</td>\n",
       "      <td>NaN</td>\n",
       "      <td>NaN</td>\n",
       "      <td>Our Deeds are the Reason of this #earthquake M...</td>\n",
       "      <td>1</td>\n",
       "    </tr>\n",
       "    <tr>\n",
       "      <th>1</th>\n",
       "      <td>4</td>\n",
       "      <td>NaN</td>\n",
       "      <td>NaN</td>\n",
       "      <td>Forest fire near La Ronge Sask. Canada</td>\n",
       "      <td>1</td>\n",
       "    </tr>\n",
       "    <tr>\n",
       "      <th>2</th>\n",
       "      <td>5</td>\n",
       "      <td>NaN</td>\n",
       "      <td>NaN</td>\n",
       "      <td>All residents asked to 'shelter in place' are ...</td>\n",
       "      <td>1</td>\n",
       "    </tr>\n",
       "    <tr>\n",
       "      <th>3</th>\n",
       "      <td>6</td>\n",
       "      <td>NaN</td>\n",
       "      <td>NaN</td>\n",
       "      <td>13,000 people receive #wildfires evacuation or...</td>\n",
       "      <td>1</td>\n",
       "    </tr>\n",
       "    <tr>\n",
       "      <th>4</th>\n",
       "      <td>7</td>\n",
       "      <td>NaN</td>\n",
       "      <td>NaN</td>\n",
       "      <td>Just got sent this photo from Ruby #Alaska as ...</td>\n",
       "      <td>1</td>\n",
       "    </tr>\n",
       "  </tbody>\n",
       "</table>\n",
       "</div>"
      ],
      "text/plain": [
       "   id keyword location                                               text  \\\n",
       "0   1     NaN      NaN  Our Deeds are the Reason of this #earthquake M...   \n",
       "1   4     NaN      NaN             Forest fire near La Ronge Sask. Canada   \n",
       "2   5     NaN      NaN  All residents asked to 'shelter in place' are ...   \n",
       "3   6     NaN      NaN  13,000 people receive #wildfires evacuation or...   \n",
       "4   7     NaN      NaN  Just got sent this photo from Ruby #Alaska as ...   \n",
       "\n",
       "   target  \n",
       "0       1  \n",
       "1       1  \n",
       "2       1  \n",
       "3       1  \n",
       "4       1  "
      ]
     },
     "execution_count": 3,
     "metadata": {},
     "output_type": "execute_result"
    }
   ],
   "source": [
    "df.head(5)"
   ]
  },
  {
   "cell_type": "code",
   "execution_count": 4,
   "id": "36b78f7d",
   "metadata": {
    "execution": {
     "iopub.execute_input": "2024-02-14T15:17:03.306264Z",
     "iopub.status.busy": "2024-02-14T15:17:03.305547Z",
     "iopub.status.idle": "2024-02-14T15:17:03.340151Z",
     "shell.execute_reply": "2024-02-14T15:17:03.337830Z"
    },
    "papermill": {
     "duration": 0.058078,
     "end_time": "2024-02-14T15:17:03.342539",
     "exception": false,
     "start_time": "2024-02-14T15:17:03.284461",
     "status": "completed"
    },
    "tags": []
   },
   "outputs": [
    {
     "name": "stdout",
     "output_type": "stream",
     "text": [
      "<class 'pandas.core.frame.DataFrame'>\n",
      "RangeIndex: 7613 entries, 0 to 7612\n",
      "Data columns (total 5 columns):\n",
      " #   Column    Non-Null Count  Dtype \n",
      "---  ------    --------------  ----- \n",
      " 0   id        7613 non-null   int64 \n",
      " 1   keyword   7552 non-null   object\n",
      " 2   location  5080 non-null   object\n",
      " 3   text      7613 non-null   object\n",
      " 4   target    7613 non-null   int64 \n",
      "dtypes: int64(2), object(3)\n",
      "memory usage: 297.5+ KB\n"
     ]
    }
   ],
   "source": [
    "df.info()"
   ]
  },
  {
   "cell_type": "code",
   "execution_count": 5,
   "id": "eb6b67de",
   "metadata": {
    "execution": {
     "iopub.execute_input": "2024-02-14T15:17:03.379482Z",
     "iopub.status.busy": "2024-02-14T15:17:03.378636Z",
     "iopub.status.idle": "2024-02-14T15:17:03.590125Z",
     "shell.execute_reply": "2024-02-14T15:17:03.588871Z"
    },
    "papermill": {
     "duration": 0.233127,
     "end_time": "2024-02-14T15:17:03.592919",
     "exception": false,
     "start_time": "2024-02-14T15:17:03.359792",
     "status": "completed"
    },
    "tags": []
   },
   "outputs": [
    {
     "data": {
      "text/plain": [
       "<Axes: xlabel='target'>"
      ]
     },
     "execution_count": 5,
     "metadata": {},
     "output_type": "execute_result"
    },
    {
     "data": {
      "image/png": "[encoded data removed]",
      "text/plain": [
       "<Figure size 640x480 with 1 Axes>"
      ]
     },
     "metadata": {},
     "output_type": "display_data"
    }
   ],
   "source": [
    "df['target'].value_counts().plot.bar()"
   ]
  },
  {
   "cell_type": "markdown",
   "id": "0ac7f7dc",
   "metadata": {
    "papermill": {
     "duration": 0.017618,
     "end_time": "2024-02-14T15:17:03.628774",
     "exception": false,
     "start_time": "2024-02-14T15:17:03.611156",
     "status": "completed"
    },
    "tags": []
   },
   "source": [
    "## Check Descriptive Statistics"
   ]
  },
  {
   "cell_type": "code",
   "execution_count": 6,
   "id": "489248f4",
   "metadata": {
    "execution": {
     "iopub.execute_input": "2024-02-14T15:17:03.666375Z",
     "iopub.status.busy": "2024-02-14T15:17:03.665923Z",
     "iopub.status.idle": "2024-02-14T15:17:03.673175Z",
     "shell.execute_reply": "2024-02-14T15:17:03.671881Z"
    },
    "papermill": {
     "duration": 0.029204,
     "end_time": "2024-02-14T15:17:03.675752",
     "exception": false,
     "start_time": "2024-02-14T15:17:03.646548",
     "status": "completed"
    },
    "tags": []
   },
   "outputs": [
    {
     "data": {
      "text/plain": [
       "(7613, 5)"
      ]
     },
     "execution_count": 6,
     "metadata": {},
     "output_type": "execute_result"
    }
   ],
   "source": [
    "df.shape"
   ]
  },
  {
   "cell_type": "code",
   "execution_count": 7,
   "id": "eb6ca890",
   "metadata": {
    "execution": {
     "iopub.execute_input": "2024-02-14T15:17:03.713033Z",
     "iopub.status.busy": "2024-02-14T15:17:03.712622Z",
     "iopub.status.idle": "2024-02-14T15:17:03.725263Z",
     "shell.execute_reply": "2024-02-14T15:17:03.724047Z"
    },
    "papermill": {
     "duration": 0.034218,
     "end_time": "2024-02-14T15:17:03.727610",
     "exception": false,
     "start_time": "2024-02-14T15:17:03.693392",
     "status": "completed"
    },
    "tags": []
   },
   "outputs": [],
   "source": [
    "df['text_length'] = df['text'].apply(lambda x : len(x))"
   ]
  },
  {
   "cell_type": "code",
   "execution_count": 8,
   "id": "70b72ad1",
   "metadata": {
    "execution": {
     "iopub.execute_input": "2024-02-14T15:17:03.765842Z",
     "iopub.status.busy": "2024-02-14T15:17:03.764790Z",
     "iopub.status.idle": "2024-02-14T15:17:03.773201Z",
     "shell.execute_reply": "2024-02-14T15:17:03.772269Z"
    },
    "papermill": {
     "duration": 0.029951,
     "end_time": "2024-02-14T15:17:03.775360",
     "exception": false,
     "start_time": "2024-02-14T15:17:03.745409",
     "status": "completed"
    },
    "tags": []
   },
   "outputs": [
    {
     "data": {
      "text/plain": [
       "157"
      ]
     },
     "execution_count": 8,
     "metadata": {},
     "output_type": "execute_result"
    }
   ],
   "source": [
    "max(df['text_length'])"
   ]
  },
  {
   "cell_type": "code",
   "execution_count": 9,
   "id": "dfaf017a",
   "metadata": {
    "execution": {
     "iopub.execute_input": "2024-02-14T15:17:03.813375Z",
     "iopub.status.busy": "2024-02-14T15:17:03.812621Z",
     "iopub.status.idle": "2024-02-14T15:17:04.100911Z",
     "shell.execute_reply": "2024-02-14T15:17:04.099503Z"
    },
    "papermill": {
     "duration": 0.310537,
     "end_time": "2024-02-14T15:17:04.103639",
     "exception": false,
     "start_time": "2024-02-14T15:17:03.793102",
     "status": "completed"
    },
    "tags": []
   },
   "outputs": [
    {
     "data": {
      "text/plain": [
       "<Axes: ylabel='Frequency'>"
      ]
     },
     "execution_count": 9,
     "metadata": {},
     "output_type": "execute_result"
    },
    {
     "data": {
      "image/png": "[encoded data removed]",
      "text/plain": [
       "<Figure size 640x480 with 1 Axes>"
      ]
     },
     "metadata": {},
     "output_type": "display_data"
    }
   ],
   "source": [
    "df['text_length'].plot.hist(bins = 30)"
   ]
  },
  {
   "cell_type": "code",
   "execution_count": 10,
   "id": "fda9cffb",
   "metadata": {
    "execution": {
     "iopub.execute_input": "2024-02-14T15:17:04.143541Z",
     "iopub.status.busy": "2024-02-14T15:17:04.143152Z",
     "iopub.status.idle": "2024-02-14T15:17:04.157258Z",
     "shell.execute_reply": "2024-02-14T15:17:04.155847Z"
    },
    "papermill": {
     "duration": 0.037407,
     "end_time": "2024-02-14T15:17:04.159748",
     "exception": false,
     "start_time": "2024-02-14T15:17:04.122341",
     "status": "completed"
    },
    "tags": []
   },
   "outputs": [
    {
     "data": {
      "text/html": [
       "<div>\n",
       "<style scoped>\n",
       "    .dataframe tbody tr th:only-of-type {\n",
       "        vertical-align: middle;\n",
       "    }\n",
       "\n",
       "    .dataframe tbody tr th {\n",
       "        vertical-align: top;\n",
       "    }\n",
       "\n",
       "    .dataframe thead th {\n",
       "        text-align: right;\n",
       "    }\n",
       "</style>\n",
       "<table border=\"1\" class=\"dataframe\">\n",
       "  <thead>\n",
       "    <tr style=\"text-align: right;\">\n",
       "      <th></th>\n",
       "      <th>id</th>\n",
       "      <th>keyword</th>\n",
       "      <th>location</th>\n",
       "      <th>text</th>\n",
       "      <th>target</th>\n",
       "      <th>text_length</th>\n",
       "    </tr>\n",
       "  </thead>\n",
       "  <tbody>\n",
       "    <tr>\n",
       "      <th>0</th>\n",
       "      <td>1</td>\n",
       "      <td>NaN</td>\n",
       "      <td>NaN</td>\n",
       "      <td>Our Deeds are the Reason of this #earthquake M...</td>\n",
       "      <td>1</td>\n",
       "      <td>69</td>\n",
       "    </tr>\n",
       "    <tr>\n",
       "      <th>1</th>\n",
       "      <td>4</td>\n",
       "      <td>NaN</td>\n",
       "      <td>NaN</td>\n",
       "      <td>Forest fire near La Ronge Sask. Canada</td>\n",
       "      <td>1</td>\n",
       "      <td>38</td>\n",
       "    </tr>\n",
       "    <tr>\n",
       "      <th>2</th>\n",
       "      <td>5</td>\n",
       "      <td>NaN</td>\n",
       "      <td>NaN</td>\n",
       "      <td>All residents asked to 'shelter in place' are ...</td>\n",
       "      <td>1</td>\n",
       "      <td>133</td>\n",
       "    </tr>\n",
       "    <tr>\n",
       "      <th>3</th>\n",
       "      <td>6</td>\n",
       "      <td>NaN</td>\n",
       "      <td>NaN</td>\n",
       "      <td>13,000 people receive #wildfires evacuation or...</td>\n",
       "      <td>1</td>\n",
       "      <td>65</td>\n",
       "    </tr>\n",
       "    <tr>\n",
       "      <th>4</th>\n",
       "      <td>7</td>\n",
       "      <td>NaN</td>\n",
       "      <td>NaN</td>\n",
       "      <td>Just got sent this photo from Ruby #Alaska as ...</td>\n",
       "      <td>1</td>\n",
       "      <td>88</td>\n",
       "    </tr>\n",
       "  </tbody>\n",
       "</table>\n",
       "</div>"
      ],
      "text/plain": [
       "   id keyword location                                               text  \\\n",
       "0   1     NaN      NaN  Our Deeds are the Reason of this #earthquake M...   \n",
       "1   4     NaN      NaN             Forest fire near La Ronge Sask. Canada   \n",
       "2   5     NaN      NaN  All residents asked to 'shelter in place' are ...   \n",
       "3   6     NaN      NaN  13,000 people receive #wildfires evacuation or...   \n",
       "4   7     NaN      NaN  Just got sent this photo from Ruby #Alaska as ...   \n",
       "\n",
       "   target  text_length  \n",
       "0       1           69  \n",
       "1       1           38  \n",
       "2       1          133  \n",
       "3       1           65  \n",
       "4       1           88  "
      ]
     },
     "execution_count": 10,
     "metadata": {},
     "output_type": "execute_result"
    }
   ],
   "source": [
    "df.head()"
   ]
  },
  {
   "cell_type": "code",
   "execution_count": 11,
   "id": "c00fdadc",
   "metadata": {
    "execution": {
     "iopub.execute_input": "2024-02-14T15:17:04.200405Z",
     "iopub.status.busy": "2024-02-14T15:17:04.199897Z",
     "iopub.status.idle": "2024-02-14T15:17:04.210280Z",
     "shell.execute_reply": "2024-02-14T15:17:04.209184Z"
    },
    "papermill": {
     "duration": 0.034264,
     "end_time": "2024-02-14T15:17:04.212851",
     "exception": false,
     "start_time": "2024-02-14T15:17:04.178587",
     "status": "completed"
    },
    "tags": []
   },
   "outputs": [
    {
     "name": "stdout",
     "output_type": "stream",
     "text": [
      "id                0\n",
      "keyword          61\n",
      "location       2533\n",
      "text              0\n",
      "target            0\n",
      "text_length       0\n",
      "dtype: int64\n"
     ]
    }
   ],
   "source": [
    "print(df.isnull().sum())"
   ]
  },
  {
   "cell_type": "code",
   "execution_count": 12,
   "id": "7370ebde",
   "metadata": {
    "execution": {
     "iopub.execute_input": "2024-02-14T15:17:04.253608Z",
     "iopub.status.busy": "2024-02-14T15:17:04.253142Z",
     "iopub.status.idle": "2024-02-14T15:17:04.263287Z",
     "shell.execute_reply": "2024-02-14T15:17:04.261933Z"
    },
    "papermill": {
     "duration": 0.03385,
     "end_time": "2024-02-14T15:17:04.266163",
     "exception": false,
     "start_time": "2024-02-14T15:17:04.232313",
     "status": "completed"
    },
    "tags": []
   },
   "outputs": [
    {
     "name": "stderr",
     "output_type": "stream",
     "text": [
      "/tmp/ipykernel_18/1751759285.py:1: FutureWarning: A value is trying to be set on a copy of a DataFrame or Series through chained assignment using an inplace method.\n",
      "The behavior will change in pandas 3.0. This inplace method will never work because the intermediate object on which we are setting values always behaves as a copy.\n",
      "\n",
      "For example, when doing 'df[col].method(value, inplace=True)', try using 'df.method({col: value}, inplace=True)' or df[col] = df[col].method(value) instead, to perform the operation inplace on the original object.\n",
      "\n",
      "\n",
      "  df['keyword'].fillna('empty', inplace=True)\n",
      "/tmp/ipykernel_18/1751759285.py:2: FutureWarning: A value is trying to be set on a copy of a DataFrame or Series through chained assignment using an inplace method.\n",
      "The behavior will change in pandas 3.0. This inplace method will never work because the intermediate object on which we are setting values always behaves as a copy.\n",
      "\n",
      "For example, when doing 'df[col].method(value, inplace=True)', try using 'df.method({col: value}, inplace=True)' or df[col] = df[col].method(value) instead, to perform the operation inplace on the original object.\n",
      "\n",
      "\n",
      "  df['location'].fillna('empty', inplace=True)\n"
     ]
    }
   ],
   "source": [
    "df['keyword'].fillna('empty', inplace=True)\n",
    "df['location'].fillna('empty', inplace=True)"
   ]
  },
  {
   "cell_type": "code",
   "execution_count": 13,
   "id": "56d87331",
   "metadata": {
    "execution": {
     "iopub.execute_input": "2024-02-14T15:17:04.308535Z",
     "iopub.status.busy": "2024-02-14T15:17:04.308110Z",
     "iopub.status.idle": "2024-02-14T15:17:04.319189Z",
     "shell.execute_reply": "2024-02-14T15:17:04.317625Z"
    },
    "papermill": {
     "duration": 0.03524,
     "end_time": "2024-02-14T15:17:04.321593",
     "exception": false,
     "start_time": "2024-02-14T15:17:04.286353",
     "status": "completed"
    },
    "tags": []
   },
   "outputs": [
    {
     "name": "stdout",
     "output_type": "stream",
     "text": [
      "id             0\n",
      "keyword        0\n",
      "location       0\n",
      "text           0\n",
      "target         0\n",
      "text_length    0\n",
      "dtype: int64\n"
     ]
    }
   ],
   "source": [
    "print(df.isnull().sum())"
   ]
  },
  {
   "cell_type": "markdown",
   "id": "646dc84c",
   "metadata": {
    "papermill": {
     "duration": 0.019555,
     "end_time": "2024-02-14T15:17:04.360871",
     "exception": false,
     "start_time": "2024-02-14T15:17:04.341316",
     "status": "completed"
    },
    "tags": []
   },
   "source": [
    "## Perform Punctuation Removal and Convert to Lower Case"
   ]
  },
  {
   "cell_type": "code",
   "execution_count": 14,
   "id": "822f7874",
   "metadata": {
    "execution": {
     "iopub.execute_input": "2024-02-14T15:17:04.403987Z",
     "iopub.status.busy": "2024-02-14T15:17:04.402840Z",
     "iopub.status.idle": "2024-02-14T15:17:04.430112Z",
     "shell.execute_reply": "2024-02-14T15:17:04.428899Z"
    },
    "papermill": {
     "duration": 0.05126,
     "end_time": "2024-02-14T15:17:04.432427",
     "exception": false,
     "start_time": "2024-02-14T15:17:04.381167",
     "status": "completed"
    },
    "tags": []
   },
   "outputs": [
    {
     "data": {
      "text/plain": [
       "0       empty\n",
       "1       empty\n",
       "2       empty\n",
       "3       empty\n",
       "4       empty\n",
       "        ...  \n",
       "7608    empty\n",
       "7609    empty\n",
       "7610    empty\n",
       "7611    empty\n",
       "7612    empty\n",
       "Name: location, Length: 7613, dtype: object"
      ]
     },
     "execution_count": 14,
     "metadata": {},
     "output_type": "execute_result"
    }
   ],
   "source": [
    "df['text'].apply(lambda x : x.lower())\n",
    "df['keyword'].apply(lambda x : x.lower())\n",
    "df['location'].apply(lambda x : x.lower())"
   ]
  },
  {
   "cell_type": "code",
   "execution_count": 15,
   "id": "4b674105",
   "metadata": {
    "execution": {
     "iopub.execute_input": "2024-02-14T15:17:04.475337Z",
     "iopub.status.busy": "2024-02-14T15:17:04.474828Z",
     "iopub.status.idle": "2024-02-14T15:17:04.495757Z",
     "shell.execute_reply": "2024-02-14T15:17:04.494521Z"
    },
    "papermill": {
     "duration": 0.045857,
     "end_time": "2024-02-14T15:17:04.498412",
     "exception": false,
     "start_time": "2024-02-14T15:17:04.452555",
     "status": "completed"
    },
    "tags": []
   },
   "outputs": [],
   "source": [
    "df['text'] = df['text'].apply(lambda x : x.lower())\n",
    "df['keyword'] = df['keyword'].apply(lambda x : x.lower())\n",
    "df['location'] = df['location'].apply(lambda x : x.lower())"
   ]
  },
  {
   "cell_type": "code",
   "execution_count": 16,
   "id": "0cbce425",
   "metadata": {
    "execution": {
     "iopub.execute_input": "2024-02-14T15:17:04.541053Z",
     "iopub.status.busy": "2024-02-14T15:17:04.540383Z",
     "iopub.status.idle": "2024-02-14T15:17:04.555523Z",
     "shell.execute_reply": "2024-02-14T15:17:04.554343Z"
    },
    "papermill": {
     "duration": 0.039599,
     "end_time": "2024-02-14T15:17:04.558108",
     "exception": false,
     "start_time": "2024-02-14T15:17:04.518509",
     "status": "completed"
    },
    "tags": []
   },
   "outputs": [
    {
     "data": {
      "text/html": [
       "<div>\n",
       "<style scoped>\n",
       "    .dataframe tbody tr th:only-of-type {\n",
       "        vertical-align: middle;\n",
       "    }\n",
       "\n",
       "    .dataframe tbody tr th {\n",
       "        vertical-align: top;\n",
       "    }\n",
       "\n",
       "    .dataframe thead th {\n",
       "        text-align: right;\n",
       "    }\n",
       "</style>\n",
       "<table border=\"1\" class=\"dataframe\">\n",
       "  <thead>\n",
       "    <tr style=\"text-align: right;\">\n",
       "      <th></th>\n",
       "      <th>id</th>\n",
       "      <th>keyword</th>\n",
       "      <th>location</th>\n",
       "      <th>text</th>\n",
       "      <th>target</th>\n",
       "      <th>text_length</th>\n",
       "    </tr>\n",
       "  </thead>\n",
       "  <tbody>\n",
       "    <tr>\n",
       "      <th>0</th>\n",
       "      <td>1</td>\n",
       "      <td>empty</td>\n",
       "      <td>empty</td>\n",
       "      <td>our deeds are the reason of this #earthquake m...</td>\n",
       "      <td>1</td>\n",
       "      <td>69</td>\n",
       "    </tr>\n",
       "    <tr>\n",
       "      <th>1</th>\n",
       "      <td>4</td>\n",
       "      <td>empty</td>\n",
       "      <td>empty</td>\n",
       "      <td>forest fire near la ronge sask. canada</td>\n",
       "      <td>1</td>\n",
       "      <td>38</td>\n",
       "    </tr>\n",
       "    <tr>\n",
       "      <th>2</th>\n",
       "      <td>5</td>\n",
       "      <td>empty</td>\n",
       "      <td>empty</td>\n",
       "      <td>all residents asked to 'shelter in place' are ...</td>\n",
       "      <td>1</td>\n",
       "      <td>133</td>\n",
       "    </tr>\n",
       "    <tr>\n",
       "      <th>3</th>\n",
       "      <td>6</td>\n",
       "      <td>empty</td>\n",
       "      <td>empty</td>\n",
       "      <td>13,000 people receive #wildfires evacuation or...</td>\n",
       "      <td>1</td>\n",
       "      <td>65</td>\n",
       "    </tr>\n",
       "    <tr>\n",
       "      <th>4</th>\n",
       "      <td>7</td>\n",
       "      <td>empty</td>\n",
       "      <td>empty</td>\n",
       "      <td>just got sent this photo from ruby #alaska as ...</td>\n",
       "      <td>1</td>\n",
       "      <td>88</td>\n",
       "    </tr>\n",
       "  </tbody>\n",
       "</table>\n",
       "</div>"
      ],
      "text/plain": [
       "   id keyword location                                               text  \\\n",
       "0   1   empty    empty  our deeds are the reason of this #earthquake m...   \n",
       "1   4   empty    empty             forest fire near la ronge sask. canada   \n",
       "2   5   empty    empty  all residents asked to 'shelter in place' are ...   \n",
       "3   6   empty    empty  13,000 people receive #wildfires evacuation or...   \n",
       "4   7   empty    empty  just got sent this photo from ruby #alaska as ...   \n",
       "\n",
       "   target  text_length  \n",
       "0       1           69  \n",
       "1       1           38  \n",
       "2       1          133  \n",
       "3       1           65  \n",
       "4       1           88  "
      ]
     },
     "execution_count": 16,
     "metadata": {},
     "output_type": "execute_result"
    }
   ],
   "source": [
    "df.head(5)"
   ]
  },
  {
   "cell_type": "code",
   "execution_count": 17,
   "id": "b2bc8fc3",
   "metadata": {
    "execution": {
     "iopub.execute_input": "2024-02-14T15:17:04.600864Z",
     "iopub.status.busy": "2024-02-14T15:17:04.600370Z",
     "iopub.status.idle": "2024-02-14T15:17:04.709237Z",
     "shell.execute_reply": "2024-02-14T15:17:04.708033Z"
    },
    "papermill": {
     "duration": 0.133888,
     "end_time": "2024-02-14T15:17:04.712139",
     "exception": false,
     "start_time": "2024-02-14T15:17:04.578251",
     "status": "completed"
    },
    "tags": []
   },
   "outputs": [],
   "source": [
    "import re\n",
    "# Function to remove punctuation from a given text\n",
    "def remove_punctuation(text):\n",
    "    # Use a regular expression to remove punctuation\n",
    "    return re.sub(r'[^\\w\\s]', '', text)\n",
    "\n",
    "# Apply the function to the 'text' column\n",
    "df['text'] = df['text'].apply(remove_punctuation)\n",
    "\n",
    "# Function to remove punctuation from a given text\n",
    "def remove_punctuation(keyword):\n",
    "    # Use a regular expression to remove punctuation\n",
    "    return re.sub(r'[^\\w\\s]', '', keyword)\n",
    "\n",
    "# Apply the function to the 'text' column\n",
    "df['keyword'] = df['keyword'].apply(remove_punctuation)\n",
    "\n",
    "# Function to remove punctuation from a given text\n",
    "def remove_punctuation(location):\n",
    "    # Use a regular expression to remove punctuation\n",
    "    return re.sub(r'[^\\w\\s]', '', location)\n",
    "\n",
    "# Apply the function to the 'text' column\n",
    "df['location'] = df['location'].apply(remove_punctuation)"
   ]
  },
  {
   "cell_type": "markdown",
   "id": "422a8830",
   "metadata": {
    "papermill": {
     "duration": 0.019817,
     "end_time": "2024-02-14T15:17:04.752104",
     "exception": false,
     "start_time": "2024-02-14T15:17:04.732287",
     "status": "completed"
    },
    "tags": []
   },
   "source": [
    "## Remove Stop Words"
   ]
  },
  {
   "cell_type": "code",
   "execution_count": 18,
   "id": "61a4e8d6",
   "metadata": {
    "execution": {
     "iopub.execute_input": "2024-02-14T15:17:04.794550Z",
     "iopub.status.busy": "2024-02-14T15:17:04.794074Z",
     "iopub.status.idle": "2024-02-14T15:17:04.872871Z",
     "shell.execute_reply": "2024-02-14T15:17:04.871101Z"
    },
    "papermill": {
     "duration": 0.10324,
     "end_time": "2024-02-14T15:17:04.875352",
     "exception": false,
     "start_time": "2024-02-14T15:17:04.772112",
     "status": "completed"
    },
    "tags": []
   },
   "outputs": [
    {
     "name": "stdout",
     "output_type": "stream",
     "text": [
      "[nltk_data] Downloading package stopwords to /usr/share/nltk_data...\n",
      "[nltk_data]   Package stopwords is already up-to-date!\n"
     ]
    }
   ],
   "source": [
    "nltk.download('stopwords')\n",
    "stop = stopwords.words('english')"
   ]
  },
  {
   "cell_type": "code",
   "execution_count": 19,
   "id": "3271789f",
   "metadata": {
    "execution": {
     "iopub.execute_input": "2024-02-14T15:17:04.982746Z",
     "iopub.status.busy": "2024-02-14T15:17:04.982281Z",
     "iopub.status.idle": "2024-02-14T15:17:04.993943Z",
     "shell.execute_reply": "2024-02-14T15:17:04.992474Z"
    },
    "papermill": {
     "duration": 0.100489,
     "end_time": "2024-02-14T15:17:04.996292",
     "exception": false,
     "start_time": "2024-02-14T15:17:04.895803",
     "status": "completed"
    },
    "tags": []
   },
   "outputs": [
    {
     "data": {
      "text/plain": [
       "['i',\n",
       " 'me',\n",
       " 'my',\n",
       " 'myself',\n",
       " 'we',\n",
       " 'our',\n",
       " 'ours',\n",
       " 'ourselves',\n",
       " 'you',\n",
       " \"you're\",\n",
       " \"you've\",\n",
       " \"you'll\",\n",
       " \"you'd\",\n",
       " 'your',\n",
       " 'yours',\n",
       " 'yourself',\n",
       " 'yourselves',\n",
       " 'he',\n",
       " 'him',\n",
       " 'his',\n",
       " 'himself',\n",
       " 'she',\n",
       " \"she's\",\n",
       " 'her',\n",
       " 'hers',\n",
       " 'herself',\n",
       " 'it',\n",
       " \"it's\",\n",
       " 'its',\n",
       " 'itself',\n",
       " 'they',\n",
       " 'them',\n",
       " 'their',\n",
       " 'theirs',\n",
       " 'themselves',\n",
       " 'what',\n",
       " 'which',\n",
       " 'who',\n",
       " 'whom',\n",
       " 'this',\n",
       " 'that',\n",
       " \"that'll\",\n",
       " 'these',\n",
       " 'those',\n",
       " 'am',\n",
       " 'is',\n",
       " 'are',\n",
       " 'was',\n",
       " 'were',\n",
       " 'be',\n",
       " 'been',\n",
       " 'being',\n",
       " 'have',\n",
       " 'has',\n",
       " 'had',\n",
       " 'having',\n",
       " 'do',\n",
       " 'does',\n",
       " 'did',\n",
       " 'doing',\n",
       " 'a',\n",
       " 'an',\n",
       " 'the',\n",
       " 'and',\n",
       " 'but',\n",
       " 'if',\n",
       " 'or',\n",
       " 'because',\n",
       " 'as',\n",
       " 'until',\n",
       " 'while',\n",
       " 'of',\n",
       " 'at',\n",
       " 'by',\n",
       " 'for',\n",
       " 'with',\n",
       " 'about',\n",
       " 'against',\n",
       " 'between',\n",
       " 'into',\n",
       " 'through',\n",
       " 'during',\n",
       " 'before',\n",
       " 'after',\n",
       " 'above',\n",
       " 'below',\n",
       " 'to',\n",
       " 'from',\n",
       " 'up',\n",
       " 'down',\n",
       " 'in',\n",
       " 'out',\n",
       " 'on',\n",
       " 'off',\n",
       " 'over',\n",
       " 'under',\n",
       " 'again',\n",
       " 'further',\n",
       " 'then',\n",
       " 'once',\n",
       " 'here',\n",
       " 'there',\n",
       " 'when',\n",
       " 'where',\n",
       " 'why',\n",
       " 'how',\n",
       " 'all',\n",
       " 'any',\n",
       " 'both',\n",
       " 'each',\n",
       " 'few',\n",
       " 'more',\n",
       " 'most',\n",
       " 'other',\n",
       " 'some',\n",
       " 'such',\n",
       " 'no',\n",
       " 'nor',\n",
       " 'not',\n",
       " 'only',\n",
       " 'own',\n",
       " 'same',\n",
       " 'so',\n",
       " 'than',\n",
       " 'too',\n",
       " 'very',\n",
       " 's',\n",
       " 't',\n",
       " 'can',\n",
       " 'will',\n",
       " 'just',\n",
       " 'don',\n",
       " \"don't\",\n",
       " 'should',\n",
       " \"should've\",\n",
       " 'now',\n",
       " 'd',\n",
       " 'll',\n",
       " 'm',\n",
       " 'o',\n",
       " 're',\n",
       " 've',\n",
       " 'y',\n",
       " 'ain',\n",
       " 'aren',\n",
       " \"aren't\",\n",
       " 'couldn',\n",
       " \"couldn't\",\n",
       " 'didn',\n",
       " \"didn't\",\n",
       " 'doesn',\n",
       " \"doesn't\",\n",
       " 'hadn',\n",
       " \"hadn't\",\n",
       " 'hasn',\n",
       " \"hasn't\",\n",
       " 'haven',\n",
       " \"haven't\",\n",
       " 'isn',\n",
       " \"isn't\",\n",
       " 'ma',\n",
       " 'mightn',\n",
       " \"mightn't\",\n",
       " 'mustn',\n",
       " \"mustn't\",\n",
       " 'needn',\n",
       " \"needn't\",\n",
       " 'shan',\n",
       " \"shan't\",\n",
       " 'shouldn',\n",
       " \"shouldn't\",\n",
       " 'wasn',\n",
       " \"wasn't\",\n",
       " 'weren',\n",
       " \"weren't\",\n",
       " 'won',\n",
       " \"won't\",\n",
       " 'wouldn',\n",
       " \"wouldn't\"]"
      ]
     },
     "execution_count": 19,
     "metadata": {},
     "output_type": "execute_result"
    }
   ],
   "source": [
    "stop"
   ]
  },
  {
   "cell_type": "code",
   "execution_count": 20,
   "id": "62ace085",
   "metadata": {
    "execution": {
     "iopub.execute_input": "2024-02-14T15:17:05.040184Z",
     "iopub.status.busy": "2024-02-14T15:17:05.039705Z",
     "iopub.status.idle": "2024-02-14T15:17:05.397926Z",
     "shell.execute_reply": "2024-02-14T15:17:05.396605Z"
    },
    "papermill": {
     "duration": 0.383977,
     "end_time": "2024-02-14T15:17:05.401163",
     "exception": false,
     "start_time": "2024-02-14T15:17:05.017186",
     "status": "completed"
    },
    "tags": []
   },
   "outputs": [
    {
     "data": {
      "text/plain": [
       "0       [empty]\n",
       "1       [empty]\n",
       "2       [empty]\n",
       "3       [empty]\n",
       "4       [empty]\n",
       "         ...   \n",
       "7608    [empty]\n",
       "7609    [empty]\n",
       "7610    [empty]\n",
       "7611    [empty]\n",
       "7612    [empty]\n",
       "Name: location, Length: 7613, dtype: object"
      ]
     },
     "execution_count": 20,
     "metadata": {},
     "output_type": "execute_result"
    }
   ],
   "source": [
    "# Tokenize and Remove Stop Words\n",
    "df['text'].apply(lambda x: [word for word in x.split() if word not in stop])\n",
    "df['keyword'].apply(lambda x: [word for word in x.split() if word not in stop])\n",
    "df['location'].apply(lambda x: [word for word in x.split() if word not in stop])"
   ]
  },
  {
   "cell_type": "code",
   "execution_count": 21,
   "id": "69b9c6d5",
   "metadata": {
    "execution": {
     "iopub.execute_input": "2024-02-14T15:17:05.448172Z",
     "iopub.status.busy": "2024-02-14T15:17:05.447711Z",
     "iopub.status.idle": "2024-02-14T15:17:05.841985Z",
     "shell.execute_reply": "2024-02-14T15:17:05.840087Z"
    },
    "papermill": {
     "duration": 0.421617,
     "end_time": "2024-02-14T15:17:05.845391",
     "exception": false,
     "start_time": "2024-02-14T15:17:05.423774",
     "status": "completed"
    },
    "tags": []
   },
   "outputs": [],
   "source": [
    "# Join the words back\n",
    "df['text'] = df['text'].apply(lambda x: ' '.join([word for word in x.split() if word not in (stop)]))\n",
    "df['keyword'] = df['keyword'].apply(lambda x: ' '.join([word for word in x.split() if word not in (stop)]))\n",
    "df['location'] = df['location'].apply(lambda x: ' '.join([word for word in x.split() if word not in (stop)]))"
   ]
  },
  {
   "cell_type": "code",
   "execution_count": 22,
   "id": "b2b1ffc5",
   "metadata": {
    "execution": {
     "iopub.execute_input": "2024-02-14T15:17:05.890516Z",
     "iopub.status.busy": "2024-02-14T15:17:05.889413Z",
     "iopub.status.idle": "2024-02-14T15:17:05.902904Z",
     "shell.execute_reply": "2024-02-14T15:17:05.901720Z"
    },
    "papermill": {
     "duration": 0.038421,
     "end_time": "2024-02-14T15:17:05.905037",
     "exception": false,
     "start_time": "2024-02-14T15:17:05.866616",
     "status": "completed"
    },
    "tags": []
   },
   "outputs": [
    {
     "data": {
      "text/html": [
       "<div>\n",
       "<style scoped>\n",
       "    .dataframe tbody tr th:only-of-type {\n",
       "        vertical-align: middle;\n",
       "    }\n",
       "\n",
       "    .dataframe tbody tr th {\n",
       "        vertical-align: top;\n",
       "    }\n",
       "\n",
       "    .dataframe thead th {\n",
       "        text-align: right;\n",
       "    }\n",
       "</style>\n",
       "<table border=\"1\" class=\"dataframe\">\n",
       "  <thead>\n",
       "    <tr style=\"text-align: right;\">\n",
       "      <th></th>\n",
       "      <th>id</th>\n",
       "      <th>keyword</th>\n",
       "      <th>location</th>\n",
       "      <th>text</th>\n",
       "      <th>target</th>\n",
       "      <th>text_length</th>\n",
       "    </tr>\n",
       "  </thead>\n",
       "  <tbody>\n",
       "    <tr>\n",
       "      <th>0</th>\n",
       "      <td>1</td>\n",
       "      <td>empty</td>\n",
       "      <td>empty</td>\n",
       "      <td>deeds reason earthquake may allah forgive us</td>\n",
       "      <td>1</td>\n",
       "      <td>69</td>\n",
       "    </tr>\n",
       "    <tr>\n",
       "      <th>1</th>\n",
       "      <td>4</td>\n",
       "      <td>empty</td>\n",
       "      <td>empty</td>\n",
       "      <td>forest fire near la ronge sask canada</td>\n",
       "      <td>1</td>\n",
       "      <td>38</td>\n",
       "    </tr>\n",
       "    <tr>\n",
       "      <th>2</th>\n",
       "      <td>5</td>\n",
       "      <td>empty</td>\n",
       "      <td>empty</td>\n",
       "      <td>residents asked shelter place notified officer...</td>\n",
       "      <td>1</td>\n",
       "      <td>133</td>\n",
       "    </tr>\n",
       "    <tr>\n",
       "      <th>3</th>\n",
       "      <td>6</td>\n",
       "      <td>empty</td>\n",
       "      <td>empty</td>\n",
       "      <td>13000 people receive wildfires evacuation orde...</td>\n",
       "      <td>1</td>\n",
       "      <td>65</td>\n",
       "    </tr>\n",
       "    <tr>\n",
       "      <th>4</th>\n",
       "      <td>7</td>\n",
       "      <td>empty</td>\n",
       "      <td>empty</td>\n",
       "      <td>got sent photo ruby alaska smoke wildfires pou...</td>\n",
       "      <td>1</td>\n",
       "      <td>88</td>\n",
       "    </tr>\n",
       "  </tbody>\n",
       "</table>\n",
       "</div>"
      ],
      "text/plain": [
       "   id keyword location                                               text  \\\n",
       "0   1   empty    empty       deeds reason earthquake may allah forgive us   \n",
       "1   4   empty    empty              forest fire near la ronge sask canada   \n",
       "2   5   empty    empty  residents asked shelter place notified officer...   \n",
       "3   6   empty    empty  13000 people receive wildfires evacuation orde...   \n",
       "4   7   empty    empty  got sent photo ruby alaska smoke wildfires pou...   \n",
       "\n",
       "   target  text_length  \n",
       "0       1           69  \n",
       "1       1           38  \n",
       "2       1          133  \n",
       "3       1           65  \n",
       "4       1           88  "
      ]
     },
     "execution_count": 22,
     "metadata": {},
     "output_type": "execute_result"
    }
   ],
   "source": [
    "df.head()"
   ]
  },
  {
   "cell_type": "markdown",
   "id": "02466889",
   "metadata": {
    "papermill": {
     "duration": 0.021864,
     "end_time": "2024-02-14T15:17:05.948132",
     "exception": false,
     "start_time": "2024-02-14T15:17:05.926268",
     "status": "completed"
    },
    "tags": []
   },
   "source": [
    "## Perform Lemmatization or Stemming (only one)"
   ]
  },
  {
   "cell_type": "code",
   "execution_count": 23,
   "id": "6c9b6cbe",
   "metadata": {
    "execution": {
     "iopub.execute_input": "2024-02-14T15:17:06.007828Z",
     "iopub.status.busy": "2024-02-14T15:17:06.006910Z",
     "iopub.status.idle": "2024-02-14T15:17:06.641690Z",
     "shell.execute_reply": "2024-02-14T15:17:06.640238Z"
    },
    "papermill": {
     "duration": 0.671309,
     "end_time": "2024-02-14T15:17:06.644807",
     "exception": false,
     "start_time": "2024-02-14T15:17:05.973498",
     "status": "completed"
    },
    "tags": []
   },
   "outputs": [
    {
     "name": "stdout",
     "output_type": "stream",
     "text": [
      "[nltk_data] Downloading package wordnet to /usr/share/nltk_data...\n",
      "[nltk_data]   Package wordnet is already up-to-date!\n",
      "[nltk_data] Downloading package wordnet2022 to /usr/share/nltk_data...\n",
      "[nltk_data]   Unzipping corpora/wordnet2022.zip.\n"
     ]
    },
    {
     "data": {
      "text/plain": [
       "True"
      ]
     },
     "execution_count": 23,
     "metadata": {},
     "output_type": "execute_result"
    }
   ],
   "source": [
    "nltk.download('wordnet')\n",
    "nltk.download('wordnet2022')"
   ]
  },
  {
   "cell_type": "code",
   "execution_count": 24,
   "id": "b2501637",
   "metadata": {
    "execution": {
     "iopub.execute_input": "2024-02-14T15:17:06.693237Z",
     "iopub.status.busy": "2024-02-14T15:17:06.692494Z",
     "iopub.status.idle": "2024-02-14T15:17:07.834707Z",
     "shell.execute_reply": "2024-02-14T15:17:07.833335Z"
    },
    "papermill": {
     "duration": 1.169917,
     "end_time": "2024-02-14T15:17:07.837672",
     "exception": false,
     "start_time": "2024-02-14T15:17:06.667755",
     "status": "completed"
    },
    "tags": []
   },
   "outputs": [],
   "source": [
    "! cp -rf /usr/share/nltk_data/corpora/wordnet2022 /usr/share/nltk_data/corpora/wordnet # temp fix for lookup error."
   ]
  },
  {
   "cell_type": "code",
   "execution_count": 25,
   "id": "fbf9f6bd",
   "metadata": {
    "execution": {
     "iopub.execute_input": "2024-02-14T15:17:07.885211Z",
     "iopub.status.busy": "2024-02-14T15:17:07.884647Z",
     "iopub.status.idle": "2024-02-14T15:17:07.891309Z",
     "shell.execute_reply": "2024-02-14T15:17:07.890053Z"
    },
    "papermill": {
     "duration": 0.033809,
     "end_time": "2024-02-14T15:17:07.894270",
     "exception": false,
     "start_time": "2024-02-14T15:17:07.860461",
     "status": "completed"
    },
    "tags": []
   },
   "outputs": [],
   "source": [
    "wordnet = WordNetLemmatizer()"
   ]
  },
  {
   "cell_type": "code",
   "execution_count": 26,
   "id": "157d15de",
   "metadata": {
    "execution": {
     "iopub.execute_input": "2024-02-14T15:17:07.943083Z",
     "iopub.status.busy": "2024-02-14T15:17:07.942615Z",
     "iopub.status.idle": "2024-02-14T15:17:10.831796Z",
     "shell.execute_reply": "2024-02-14T15:17:10.830576Z"
    },
    "papermill": {
     "duration": 2.916879,
     "end_time": "2024-02-14T15:17:10.834355",
     "exception": false,
     "start_time": "2024-02-14T15:17:07.917476",
     "status": "completed"
    },
    "tags": []
   },
   "outputs": [
    {
     "name": "stdout",
     "output_type": "stream",
     "text": [
      "[nltk_data] Downloading package omw-1.4 to /usr/share/nltk_data...\n"
     ]
    },
    {
     "data": {
      "text/plain": [
       "0       empty\n",
       "1       empty\n",
       "2       empty\n",
       "3       empty\n",
       "4       empty\n",
       "        ...  \n",
       "7608    empty\n",
       "7609    empty\n",
       "7610    empty\n",
       "7611    empty\n",
       "7612    empty\n",
       "Name: location, Length: 7613, dtype: object"
      ]
     },
     "execution_count": 26,
     "metadata": {},
     "output_type": "execute_result"
    }
   ],
   "source": [
    "nltk.download('omw-1.4')\n",
    "# Lemmatize\n",
    "df['text'].apply(lambda x : wordnet.lemmatize(x))\n",
    "df['keyword'].apply(lambda x : wordnet.lemmatize(x))\n",
    "df['location'].apply(lambda x : wordnet.lemmatize(x))"
   ]
  },
  {
   "cell_type": "code",
   "execution_count": 27,
   "id": "6e097e1b",
   "metadata": {
    "execution": {
     "iopub.execute_input": "2024-02-14T15:17:10.881227Z",
     "iopub.status.busy": "2024-02-14T15:17:10.880537Z",
     "iopub.status.idle": "2024-02-14T15:17:11.037893Z",
     "shell.execute_reply": "2024-02-14T15:17:11.036500Z"
    },
    "papermill": {
     "duration": 0.184173,
     "end_time": "2024-02-14T15:17:11.040847",
     "exception": false,
     "start_time": "2024-02-14T15:17:10.856674",
     "status": "completed"
    },
    "tags": []
   },
   "outputs": [],
   "source": [
    "# Commit to Table\n",
    "df['text'] = df['text'].apply(lambda x : wordnet.lemmatize(x))\n",
    "df['keyword'] = df['keyword'].apply(lambda x : wordnet.lemmatize(x))\n",
    "df['location'] = df['location'].apply(lambda x : wordnet.lemmatize(x))"
   ]
  },
  {
   "cell_type": "code",
   "execution_count": 28,
   "id": "69e27328",
   "metadata": {
    "execution": {
     "iopub.execute_input": "2024-02-14T15:17:11.087905Z",
     "iopub.status.busy": "2024-02-14T15:17:11.087519Z",
     "iopub.status.idle": "2024-02-14T15:17:11.100975Z",
     "shell.execute_reply": "2024-02-14T15:17:11.099395Z"
    },
    "papermill": {
     "duration": 0.040146,
     "end_time": "2024-02-14T15:17:11.103523",
     "exception": false,
     "start_time": "2024-02-14T15:17:11.063377",
     "status": "completed"
    },
    "tags": []
   },
   "outputs": [
    {
     "data": {
      "text/html": [
       "<div>\n",
       "<style scoped>\n",
       "    .dataframe tbody tr th:only-of-type {\n",
       "        vertical-align: middle;\n",
       "    }\n",
       "\n",
       "    .dataframe tbody tr th {\n",
       "        vertical-align: top;\n",
       "    }\n",
       "\n",
       "    .dataframe thead th {\n",
       "        text-align: right;\n",
       "    }\n",
       "</style>\n",
       "<table border=\"1\" class=\"dataframe\">\n",
       "  <thead>\n",
       "    <tr style=\"text-align: right;\">\n",
       "      <th></th>\n",
       "      <th>id</th>\n",
       "      <th>keyword</th>\n",
       "      <th>location</th>\n",
       "      <th>text</th>\n",
       "      <th>target</th>\n",
       "      <th>text_length</th>\n",
       "    </tr>\n",
       "  </thead>\n",
       "  <tbody>\n",
       "    <tr>\n",
       "      <th>0</th>\n",
       "      <td>1</td>\n",
       "      <td>empty</td>\n",
       "      <td>empty</td>\n",
       "      <td>deeds reason earthquake may allah forgive us</td>\n",
       "      <td>1</td>\n",
       "      <td>69</td>\n",
       "    </tr>\n",
       "    <tr>\n",
       "      <th>1</th>\n",
       "      <td>4</td>\n",
       "      <td>empty</td>\n",
       "      <td>empty</td>\n",
       "      <td>forest fire near la ronge sask canada</td>\n",
       "      <td>1</td>\n",
       "      <td>38</td>\n",
       "    </tr>\n",
       "    <tr>\n",
       "      <th>2</th>\n",
       "      <td>5</td>\n",
       "      <td>empty</td>\n",
       "      <td>empty</td>\n",
       "      <td>residents asked shelter place notified officer...</td>\n",
       "      <td>1</td>\n",
       "      <td>133</td>\n",
       "    </tr>\n",
       "    <tr>\n",
       "      <th>3</th>\n",
       "      <td>6</td>\n",
       "      <td>empty</td>\n",
       "      <td>empty</td>\n",
       "      <td>13000 people receive wildfires evacuation orde...</td>\n",
       "      <td>1</td>\n",
       "      <td>65</td>\n",
       "    </tr>\n",
       "    <tr>\n",
       "      <th>4</th>\n",
       "      <td>7</td>\n",
       "      <td>empty</td>\n",
       "      <td>empty</td>\n",
       "      <td>got sent photo ruby alaska smoke wildfires pou...</td>\n",
       "      <td>1</td>\n",
       "      <td>88</td>\n",
       "    </tr>\n",
       "  </tbody>\n",
       "</table>\n",
       "</div>"
      ],
      "text/plain": [
       "   id keyword location                                               text  \\\n",
       "0   1   empty    empty       deeds reason earthquake may allah forgive us   \n",
       "1   4   empty    empty              forest fire near la ronge sask canada   \n",
       "2   5   empty    empty  residents asked shelter place notified officer...   \n",
       "3   6   empty    empty  13000 people receive wildfires evacuation orde...   \n",
       "4   7   empty    empty  got sent photo ruby alaska smoke wildfires pou...   \n",
       "\n",
       "   target  text_length  \n",
       "0       1           69  \n",
       "1       1           38  \n",
       "2       1          133  \n",
       "3       1           65  \n",
       "4       1           88  "
      ]
     },
     "execution_count": 28,
     "metadata": {},
     "output_type": "execute_result"
    }
   ],
   "source": [
    "df.head()"
   ]
  },
  {
   "cell_type": "code",
   "execution_count": 29,
   "id": "0be4960f",
   "metadata": {
    "execution": {
     "iopub.execute_input": "2024-02-14T15:17:11.151982Z",
     "iopub.status.busy": "2024-02-14T15:17:11.151470Z",
     "iopub.status.idle": "2024-02-14T15:17:11.176172Z",
     "shell.execute_reply": "2024-02-14T15:17:11.174391Z"
    },
    "papermill": {
     "duration": 0.051502,
     "end_time": "2024-02-14T15:17:11.178499",
     "exception": false,
     "start_time": "2024-02-14T15:17:11.126997",
     "status": "completed"
    },
    "tags": []
   },
   "outputs": [
    {
     "data": {
      "text/html": [
       "<div>\n",
       "<style scoped>\n",
       "    .dataframe tbody tr th:only-of-type {\n",
       "        vertical-align: middle;\n",
       "    }\n",
       "\n",
       "    .dataframe tbody tr th {\n",
       "        vertical-align: top;\n",
       "    }\n",
       "\n",
       "    .dataframe thead th {\n",
       "        text-align: right;\n",
       "    }\n",
       "</style>\n",
       "<table border=\"1\" class=\"dataframe\">\n",
       "  <thead>\n",
       "    <tr style=\"text-align: right;\">\n",
       "      <th></th>\n",
       "      <th>id</th>\n",
       "      <th>keyword</th>\n",
       "      <th>location</th>\n",
       "      <th>text</th>\n",
       "      <th>target</th>\n",
       "      <th>text_length</th>\n",
       "      <th>post_text_length</th>\n",
       "    </tr>\n",
       "  </thead>\n",
       "  <tbody>\n",
       "    <tr>\n",
       "      <th>0</th>\n",
       "      <td>1</td>\n",
       "      <td>empty</td>\n",
       "      <td>empty</td>\n",
       "      <td>deeds reason earthquake may allah forgive us</td>\n",
       "      <td>1</td>\n",
       "      <td>69</td>\n",
       "      <td>44</td>\n",
       "    </tr>\n",
       "    <tr>\n",
       "      <th>1</th>\n",
       "      <td>4</td>\n",
       "      <td>empty</td>\n",
       "      <td>empty</td>\n",
       "      <td>forest fire near la ronge sask canada</td>\n",
       "      <td>1</td>\n",
       "      <td>38</td>\n",
       "      <td>37</td>\n",
       "    </tr>\n",
       "    <tr>\n",
       "      <th>2</th>\n",
       "      <td>5</td>\n",
       "      <td>empty</td>\n",
       "      <td>empty</td>\n",
       "      <td>residents asked shelter place notified officer...</td>\n",
       "      <td>1</td>\n",
       "      <td>133</td>\n",
       "      <td>88</td>\n",
       "    </tr>\n",
       "    <tr>\n",
       "      <th>3</th>\n",
       "      <td>6</td>\n",
       "      <td>empty</td>\n",
       "      <td>empty</td>\n",
       "      <td>13000 people receive wildfires evacuation orde...</td>\n",
       "      <td>1</td>\n",
       "      <td>65</td>\n",
       "      <td>59</td>\n",
       "    </tr>\n",
       "    <tr>\n",
       "      <th>4</th>\n",
       "      <td>7</td>\n",
       "      <td>empty</td>\n",
       "      <td>empty</td>\n",
       "      <td>got sent photo ruby alaska smoke wildfires pou...</td>\n",
       "      <td>1</td>\n",
       "      <td>88</td>\n",
       "      <td>55</td>\n",
       "    </tr>\n",
       "  </tbody>\n",
       "</table>\n",
       "</div>"
      ],
      "text/plain": [
       "   id keyword location                                               text  \\\n",
       "0   1   empty    empty       deeds reason earthquake may allah forgive us   \n",
       "1   4   empty    empty              forest fire near la ronge sask canada   \n",
       "2   5   empty    empty  residents asked shelter place notified officer...   \n",
       "3   6   empty    empty  13000 people receive wildfires evacuation orde...   \n",
       "4   7   empty    empty  got sent photo ruby alaska smoke wildfires pou...   \n",
       "\n",
       "   target  text_length  post_text_length  \n",
       "0       1           69                44  \n",
       "1       1           38                37  \n",
       "2       1          133                88  \n",
       "3       1           65                59  \n",
       "4       1           88                55  "
      ]
     },
     "execution_count": 29,
     "metadata": {},
     "output_type": "execute_result"
    }
   ],
   "source": [
    "# Create Length Feature\n",
    "df['post_text_length'] = df['text'].apply(lambda x : len(x))\n",
    "df.head()"
   ]
  },
  {
   "cell_type": "markdown",
   "id": "53d16f4d",
   "metadata": {
    "papermill": {
     "duration": 0.022744,
     "end_time": "2024-02-14T15:17:11.224406",
     "exception": false,
     "start_time": "2024-02-14T15:17:11.201662",
     "status": "completed"
    },
    "tags": []
   },
   "source": [
    "## Code to perform train & test split"
   ]
  },
  {
   "cell_type": "code",
   "execution_count": 30,
   "id": "50c52ad2",
   "metadata": {
    "execution": {
     "iopub.execute_input": "2024-02-14T15:17:11.273048Z",
     "iopub.status.busy": "2024-02-14T15:17:11.272611Z",
     "iopub.status.idle": "2024-02-14T15:17:11.290819Z",
     "shell.execute_reply": "2024-02-14T15:17:11.289347Z"
    },
    "papermill": {
     "duration": 0.045675,
     "end_time": "2024-02-14T15:17:11.293254",
     "exception": false,
     "start_time": "2024-02-14T15:17:11.247579",
     "status": "completed"
    },
    "tags": []
   },
   "outputs": [
    {
     "name": "stdout",
     "output_type": "stream",
     "text": [
      "X_train shape: (6090, 5)\n",
      "y_train shape: (6090,)\n",
      "X_test shape: (1523, 5)\n",
      "y_test shape: (1523,)\n"
     ]
    }
   ],
   "source": [
    "y = df['target']\n",
    "X = df.drop(columns=['target', 'id'])\n",
    "\n",
    "# Split the data into training and testing sets\n",
    "X_train, X_val, y_train, y_val = train_test_split(X, y, test_size=0.2, random_state=42)\n",
    "\n",
    "# Print the shapes of the train and test sets to verify\n",
    "print(\"X_train shape:\", X_train.shape)\n",
    "print(\"y_train shape:\", y_train.shape)\n",
    "print(\"X_test shape:\", X_val.shape)\n",
    "print(\"y_test shape:\", y_val.shape)"
   ]
  },
  {
   "cell_type": "code",
   "execution_count": 31,
   "id": "8b1bf2ba",
   "metadata": {
    "execution": {
     "iopub.execute_input": "2024-02-14T15:17:11.343155Z",
     "iopub.status.busy": "2024-02-14T15:17:11.342670Z",
     "iopub.status.idle": "2024-02-14T15:17:11.356155Z",
     "shell.execute_reply": "2024-02-14T15:17:11.354993Z"
    },
    "papermill": {
     "duration": 0.041544,
     "end_time": "2024-02-14T15:17:11.359156",
     "exception": false,
     "start_time": "2024-02-14T15:17:11.317612",
     "status": "completed"
    },
    "tags": []
   },
   "outputs": [
    {
     "data": {
      "text/html": [
       "<div>\n",
       "<style scoped>\n",
       "    .dataframe tbody tr th:only-of-type {\n",
       "        vertical-align: middle;\n",
       "    }\n",
       "\n",
       "    .dataframe tbody tr th {\n",
       "        vertical-align: top;\n",
       "    }\n",
       "\n",
       "    .dataframe thead th {\n",
       "        text-align: right;\n",
       "    }\n",
       "</style>\n",
       "<table border=\"1\" class=\"dataframe\">\n",
       "  <thead>\n",
       "    <tr style=\"text-align: right;\">\n",
       "      <th></th>\n",
       "      <th>keyword</th>\n",
       "      <th>location</th>\n",
       "      <th>text</th>\n",
       "      <th>text_length</th>\n",
       "      <th>post_text_length</th>\n",
       "    </tr>\n",
       "  </thead>\n",
       "  <tbody>\n",
       "    <tr>\n",
       "      <th>4996</th>\n",
       "      <td>military</td>\n",
       "      <td>texas</td>\n",
       "      <td>courageous honest analysis need use atomic bom...</td>\n",
       "      <td>140</td>\n",
       "      <td>119</td>\n",
       "    </tr>\n",
       "    <tr>\n",
       "      <th>3263</th>\n",
       "      <td>engulfed</td>\n",
       "      <td>empty</td>\n",
       "      <td>zachzaidman 670thescore wld b shame golf cart ...</td>\n",
       "      <td>98</td>\n",
       "      <td>81</td>\n",
       "    </tr>\n",
       "    <tr>\n",
       "      <th>4907</th>\n",
       "      <td>massacre</td>\n",
       "      <td>cottonwood arizona</td>\n",
       "      <td>tell barackobama rescind medals honor given us...</td>\n",
       "      <td>143</td>\n",
       "      <td>108</td>\n",
       "    </tr>\n",
       "    <tr>\n",
       "      <th>2855</th>\n",
       "      <td>drought</td>\n",
       "      <td>spokane wa</td>\n",
       "      <td>worried ca drought might affect extreme weathe...</td>\n",
       "      <td>118</td>\n",
       "      <td>80</td>\n",
       "    </tr>\n",
       "    <tr>\n",
       "      <th>4716</th>\n",
       "      <td>lava</td>\n",
       "      <td>medanindonesia</td>\n",
       "      <td>youngheroesid lava blast amp power red panther...</td>\n",
       "      <td>82</td>\n",
       "      <td>76</td>\n",
       "    </tr>\n",
       "  </tbody>\n",
       "</table>\n",
       "</div>"
      ],
      "text/plain": [
       "       keyword            location  \\\n",
       "4996  military               texas   \n",
       "3263  engulfed               empty   \n",
       "4907  massacre  cottonwood arizona   \n",
       "2855   drought          spokane wa   \n",
       "4716      lava      medanindonesia   \n",
       "\n",
       "                                                   text  text_length  \\\n",
       "4996  courageous honest analysis need use atomic bom...          140   \n",
       "3263  zachzaidman 670thescore wld b shame golf cart ...           98   \n",
       "4907  tell barackobama rescind medals honor given us...          143   \n",
       "2855  worried ca drought might affect extreme weathe...          118   \n",
       "4716  youngheroesid lava blast amp power red panther...           82   \n",
       "\n",
       "      post_text_length  \n",
       "4996               119  \n",
       "3263                81  \n",
       "4907               108  \n",
       "2855                80  \n",
       "4716                76  "
      ]
     },
     "execution_count": 31,
     "metadata": {},
     "output_type": "execute_result"
    }
   ],
   "source": [
    "X_train.head(5)"
   ]
  },
  {
   "cell_type": "markdown",
   "id": "c12c47a4",
   "metadata": {
    "papermill": {
     "duration": 0.024431,
     "end_time": "2024-02-14T15:17:11.408586",
     "exception": false,
     "start_time": "2024-02-14T15:17:11.384155",
     "status": "completed"
    },
    "tags": []
   },
   "source": [
    "## Transform to CountVectorizer"
   ]
  },
  {
   "cell_type": "code",
   "execution_count": 32,
   "id": "0ed62252",
   "metadata": {
    "execution": {
     "iopub.execute_input": "2024-02-14T15:17:11.460024Z",
     "iopub.status.busy": "2024-02-14T15:17:11.459553Z",
     "iopub.status.idle": "2024-02-14T15:17:11.884081Z",
     "shell.execute_reply": "2024-02-14T15:17:11.883256Z"
    },
    "papermill": {
     "duration": 0.453885,
     "end_time": "2024-02-14T15:17:11.887195",
     "exception": false,
     "start_time": "2024-02-14T15:17:11.433310",
     "status": "completed"
    },
    "tags": []
   },
   "outputs": [
    {
     "name": "stdout",
     "output_type": "stream",
     "text": [
      "<class 'pandas.core.frame.DataFrame'>\n",
      "<class 'numpy.ndarray'>\n"
     ]
    },
    {
     "data": {
      "text/html": [
       "<div>\n",
       "<style scoped>\n",
       "    .dataframe tbody tr th:only-of-type {\n",
       "        vertical-align: middle;\n",
       "    }\n",
       "\n",
       "    .dataframe tbody tr th {\n",
       "        vertical-align: top;\n",
       "    }\n",
       "\n",
       "    .dataframe thead th {\n",
       "        text-align: right;\n",
       "    }\n",
       "</style>\n",
       "<table border=\"1\" class=\"dataframe\">\n",
       "  <thead>\n",
       "    <tr style=\"text-align: right;\">\n",
       "      <th></th>\n",
       "      <th>010401</th>\n",
       "      <th>05</th>\n",
       "      <th>06</th>\n",
       "      <th>10</th>\n",
       "      <th>100</th>\n",
       "      <th>1000</th>\n",
       "      <th>101</th>\n",
       "      <th>11</th>\n",
       "      <th>11yearold</th>\n",
       "      <th>12</th>\n",
       "      <th>...</th>\n",
       "      <th>zionist</th>\n",
       "      <th>zombie</th>\n",
       "      <th>zone</th>\n",
       "      <th>åè</th>\n",
       "      <th>åê</th>\n",
       "      <th>û_</th>\n",
       "      <th>ûpolitics</th>\n",
       "      <th>ûïwhen</th>\n",
       "      <th>ûò</th>\n",
       "      <th>ûó</th>\n",
       "    </tr>\n",
       "  </thead>\n",
       "  <tbody>\n",
       "    <tr>\n",
       "      <th>0</th>\n",
       "      <td>0</td>\n",
       "      <td>0</td>\n",
       "      <td>0</td>\n",
       "      <td>0</td>\n",
       "      <td>0</td>\n",
       "      <td>0</td>\n",
       "      <td>0</td>\n",
       "      <td>0</td>\n",
       "      <td>0</td>\n",
       "      <td>0</td>\n",
       "      <td>...</td>\n",
       "      <td>0</td>\n",
       "      <td>0</td>\n",
       "      <td>0</td>\n",
       "      <td>0</td>\n",
       "      <td>0</td>\n",
       "      <td>0</td>\n",
       "      <td>0</td>\n",
       "      <td>0</td>\n",
       "      <td>0</td>\n",
       "      <td>0</td>\n",
       "    </tr>\n",
       "    <tr>\n",
       "      <th>1</th>\n",
       "      <td>0</td>\n",
       "      <td>0</td>\n",
       "      <td>0</td>\n",
       "      <td>0</td>\n",
       "      <td>0</td>\n",
       "      <td>0</td>\n",
       "      <td>0</td>\n",
       "      <td>0</td>\n",
       "      <td>0</td>\n",
       "      <td>0</td>\n",
       "      <td>...</td>\n",
       "      <td>0</td>\n",
       "      <td>0</td>\n",
       "      <td>0</td>\n",
       "      <td>0</td>\n",
       "      <td>0</td>\n",
       "      <td>0</td>\n",
       "      <td>0</td>\n",
       "      <td>0</td>\n",
       "      <td>0</td>\n",
       "      <td>0</td>\n",
       "    </tr>\n",
       "    <tr>\n",
       "      <th>2</th>\n",
       "      <td>0</td>\n",
       "      <td>0</td>\n",
       "      <td>0</td>\n",
       "      <td>0</td>\n",
       "      <td>0</td>\n",
       "      <td>0</td>\n",
       "      <td>0</td>\n",
       "      <td>0</td>\n",
       "      <td>0</td>\n",
       "      <td>0</td>\n",
       "      <td>...</td>\n",
       "      <td>0</td>\n",
       "      <td>0</td>\n",
       "      <td>0</td>\n",
       "      <td>0</td>\n",
       "      <td>0</td>\n",
       "      <td>0</td>\n",
       "      <td>0</td>\n",
       "      <td>0</td>\n",
       "      <td>0</td>\n",
       "      <td>0</td>\n",
       "    </tr>\n",
       "    <tr>\n",
       "      <th>3</th>\n",
       "      <td>0</td>\n",
       "      <td>0</td>\n",
       "      <td>0</td>\n",
       "      <td>0</td>\n",
       "      <td>0</td>\n",
       "      <td>0</td>\n",
       "      <td>0</td>\n",
       "      <td>0</td>\n",
       "      <td>0</td>\n",
       "      <td>0</td>\n",
       "      <td>...</td>\n",
       "      <td>0</td>\n",
       "      <td>0</td>\n",
       "      <td>0</td>\n",
       "      <td>0</td>\n",
       "      <td>0</td>\n",
       "      <td>0</td>\n",
       "      <td>0</td>\n",
       "      <td>0</td>\n",
       "      <td>0</td>\n",
       "      <td>0</td>\n",
       "    </tr>\n",
       "    <tr>\n",
       "      <th>4</th>\n",
       "      <td>0</td>\n",
       "      <td>0</td>\n",
       "      <td>0</td>\n",
       "      <td>0</td>\n",
       "      <td>0</td>\n",
       "      <td>0</td>\n",
       "      <td>0</td>\n",
       "      <td>0</td>\n",
       "      <td>0</td>\n",
       "      <td>0</td>\n",
       "      <td>...</td>\n",
       "      <td>0</td>\n",
       "      <td>0</td>\n",
       "      <td>0</td>\n",
       "      <td>0</td>\n",
       "      <td>0</td>\n",
       "      <td>0</td>\n",
       "      <td>0</td>\n",
       "      <td>0</td>\n",
       "      <td>0</td>\n",
       "      <td>0</td>\n",
       "    </tr>\n",
       "  </tbody>\n",
       "</table>\n",
       "<p>5 rows × 3000 columns</p>\n",
       "</div>"
      ],
      "text/plain": [
       "   010401  05  06  10  100  1000  101  11  11yearold  12  ...  zionist  \\\n",
       "0       0   0   0   0    0     0    0   0          0   0  ...        0   \n",
       "1       0   0   0   0    0     0    0   0          0   0  ...        0   \n",
       "2       0   0   0   0    0     0    0   0          0   0  ...        0   \n",
       "3       0   0   0   0    0     0    0   0          0   0  ...        0   \n",
       "4       0   0   0   0    0     0    0   0          0   0  ...        0   \n",
       "\n",
       "   zombie  zone  åè  åê  û_  ûpolitics  ûïwhen  ûò  ûó  \n",
       "0       0     0   0   0   0          0       0   0   0  \n",
       "1       0     0   0   0   0          0       0   0   0  \n",
       "2       0     0   0   0   0          0       0   0   0  \n",
       "3       0     0   0   0   0          0       0   0   0  \n",
       "4       0     0   0   0   0          0       0   0   0  \n",
       "\n",
       "[5 rows x 3000 columns]"
      ]
     },
     "execution_count": 32,
     "metadata": {},
     "output_type": "execute_result"
    }
   ],
   "source": [
    "#import count_vectorizer\n",
    "from sklearn.feature_extraction.text import CountVectorizer\n",
    "cv = CountVectorizer(max_features=3000)\n",
    "\n",
    "cv.fit(X_train['text'])\n",
    "X_train_cv = cv.transform(X_train['text']).toarray()\n",
    "X_val_cv = cv.transform(X_val['text']).toarray()\n",
    "\n",
    "print(type(X_train))\n",
    "print(type(X_train_cv))\n",
    "\n",
    "train_with_cv = pd.DataFrame(X_train_cv, columns= cv.get_feature_names_out())\n",
    "train_with_cv.head()"
   ]
  },
  {
   "cell_type": "markdown",
   "id": "f2de1d49",
   "metadata": {
    "papermill": {
     "duration": 0.025861,
     "end_time": "2024-02-14T15:17:11.938258",
     "exception": false,
     "start_time": "2024-02-14T15:17:11.912397",
     "status": "completed"
    },
    "tags": []
   },
   "source": [
    "## Build Model"
   ]
  },
  {
   "cell_type": "code",
   "execution_count": 33,
   "id": "b57990ad",
   "metadata": {
    "execution": {
     "iopub.execute_input": "2024-02-14T15:17:11.992550Z",
     "iopub.status.busy": "2024-02-14T15:17:11.992124Z",
     "iopub.status.idle": "2024-02-14T15:17:12.577729Z",
     "shell.execute_reply": "2024-02-14T15:17:12.576276Z"
    },
    "papermill": {
     "duration": 0.62542,
     "end_time": "2024-02-14T15:17:12.590293",
     "exception": false,
     "start_time": "2024-02-14T15:17:11.964873",
     "status": "completed"
    },
    "tags": []
   },
   "outputs": [
    {
     "name": "stdout",
     "output_type": "stream",
     "text": [
      "Train Report ---\n",
      "              precision    recall  f1-score   support\n",
      "\n",
      "           0       0.84      0.91      0.88      3468\n",
      "           1       0.87      0.77      0.82      2622\n",
      "\n",
      "    accuracy                           0.85      6090\n",
      "   macro avg       0.86      0.84      0.85      6090\n",
      "weighted avg       0.85      0.85      0.85      6090\n",
      "\n",
      "Validation Report ---\n",
      "              precision    recall  f1-score   support\n",
      "\n",
      "           0       0.80      0.86      0.83       874\n",
      "           1       0.79      0.70      0.74       649\n",
      "\n",
      "    accuracy                           0.79      1523\n",
      "   macro avg       0.79      0.78      0.79      1523\n",
      "weighted avg       0.79      0.79      0.79      1523\n",
      "\n"
     ]
    }
   ],
   "source": [
    "#import libraries and fit model \n",
    "from sklearn.naive_bayes import MultinomialNB\n",
    "nb=MultinomialNB().fit(X_train_cv,y_train)\n",
    "\n",
    "y_train_pred = nb.predict(X_train_cv)\n",
    "y_val_pred = nb.predict(X_val_cv)\n",
    "\n",
    "print('Train Report ---')\n",
    "print(classification_report(y_train, y_train_pred))\n",
    "\n",
    "print('Validation Report ---')\n",
    "print(classification_report(y_val, y_val_pred))"
   ]
  },
  {
   "cell_type": "markdown",
   "id": "a2a158a9",
   "metadata": {
    "papermill": {
     "duration": 0.025496,
     "end_time": "2024-02-14T15:17:12.668122",
     "exception": false,
     "start_time": "2024-02-14T15:17:12.642626",
     "status": "completed"
    },
    "tags": []
   },
   "source": [
    "## Write a code to build Logistic Regression Model"
   ]
  },
  {
   "cell_type": "code",
   "execution_count": 34,
   "id": "cbb8c8d0",
   "metadata": {
    "execution": {
     "iopub.execute_input": "2024-02-14T15:17:12.722840Z",
     "iopub.status.busy": "2024-02-14T15:17:12.722449Z",
     "iopub.status.idle": "2024-02-14T15:17:12.727411Z",
     "shell.execute_reply": "2024-02-14T15:17:12.726382Z"
    },
    "papermill": {
     "duration": 0.035889,
     "end_time": "2024-02-14T15:17:12.729607",
     "exception": false,
     "start_time": "2024-02-14T15:17:12.693718",
     "status": "completed"
    },
    "tags": []
   },
   "outputs": [],
   "source": [
    "#from sklearn.linear_model import LogisticRegression\n",
    "#from sklearn.metrics import accuracy_score, classification_report\n",
    "\n",
    "# Build and train Logistic Regression Model\n",
    "#logistic_model = LogisticRegression()\n",
    "#logistic_model.fit(X_train_cv, y_train)\n",
    "\n",
    "# Predictions\n",
    "#logistic_predictions = logistic_model.predict(X_val_cv)\n",
    "\n",
    "# Model Evaluation\n",
    "#print(\"\\nLogistic Regression Model:\")\n",
    "#print(\"Accuracy:\", accuracy_score(y_test, logistic_predictions))\n",
    "#print(\"Classification Report:\\n\", classification_report(y_test, logistic_predictions))\n",
    "\n",
    "#pred = pd.DataFrame(data=logistic_predictions)\n",
    "#pred.head()"
   ]
  },
  {
   "cell_type": "markdown",
   "id": "34dc2697",
   "metadata": {
    "papermill": {
     "duration": 0.024046,
     "end_time": "2024-02-14T15:17:12.778349",
     "exception": false,
     "start_time": "2024-02-14T15:17:12.754303",
     "status": "completed"
    },
    "tags": []
   },
   "source": [
    "## Write a code to build Decision Tree Model"
   ]
  },
  {
   "cell_type": "code",
   "execution_count": 35,
   "id": "b5980306",
   "metadata": {
    "execution": {
     "iopub.execute_input": "2024-02-14T15:17:12.829733Z",
     "iopub.status.busy": "2024-02-14T15:17:12.829016Z",
     "iopub.status.idle": "2024-02-14T15:17:12.833940Z",
     "shell.execute_reply": "2024-02-14T15:17:12.832926Z"
    },
    "papermill": {
     "duration": 0.033513,
     "end_time": "2024-02-14T15:17:12.836314",
     "exception": false,
     "start_time": "2024-02-14T15:17:12.802801",
     "status": "completed"
    },
    "tags": []
   },
   "outputs": [],
   "source": [
    "#from sklearn.tree import DecisionTreeClassifier\n",
    "\n",
    "# Build and train Decision Tree Model\n",
    "#dt_model = DecisionTreeClassifier()\n",
    "#dt_model.fit(X_train_cv, y_train)\n",
    "\n",
    "# Predictions\n",
    "#dt_predictions = dt_model.predict(X_val_cv)\n",
    "\n",
    "# Model Evaluation\n",
    "#print(\"\\nDecision Tree Model:\")\n",
    "#print(\"Accuracy:\", accuracy_score(y_test, dt_predictions))\n",
    "#print(\"Classification Report:\\n\", classification_report(y_test, dt_predictions))"
   ]
  },
  {
   "cell_type": "markdown",
   "id": "483a0768",
   "metadata": {
    "papermill": {
     "duration": 0.025161,
     "end_time": "2024-02-14T15:17:12.886253",
     "exception": false,
     "start_time": "2024-02-14T15:17:12.861092",
     "status": "completed"
    },
    "tags": []
   },
   "source": [
    "## Write a code to build Random Forest Model"
   ]
  },
  {
   "cell_type": "code",
   "execution_count": 36,
   "id": "0fceb890",
   "metadata": {
    "execution": {
     "iopub.execute_input": "2024-02-14T15:17:12.938448Z",
     "iopub.status.busy": "2024-02-14T15:17:12.937661Z",
     "iopub.status.idle": "2024-02-14T15:17:12.943070Z",
     "shell.execute_reply": "2024-02-14T15:17:12.942253Z"
    },
    "papermill": {
     "duration": 0.033936,
     "end_time": "2024-02-14T15:17:12.945379",
     "exception": false,
     "start_time": "2024-02-14T15:17:12.911443",
     "status": "completed"
    },
    "tags": []
   },
   "outputs": [],
   "source": [
    "#from sklearn.ensemble import RandomForestClassifier\n",
    "\n",
    "# Build and train Random Forest Model\n",
    "#rf_model = RandomForestClassifier()\n",
    "#rf_model.fit(X_train_cv, y_train)\n",
    "\n",
    "# Predictions\n",
    "#rf_predictions = rf_model.predict(X_val_cv)\n",
    "\n",
    "# Model Evaluation\n",
    "#print(\"\\nRandom Forest Model:\")\n",
    "#print(\"Accuracy:\", accuracy_score(y_test, rf_predictions))\n",
    "#print(\"Classification Report:\\n\", classification_report(y_test, rf_predictions))"
   ]
  },
  {
   "cell_type": "markdown",
   "id": "dfb366aa",
   "metadata": {
    "papermill": {
     "duration": 0.025201,
     "end_time": "2024-02-14T15:17:12.996217",
     "exception": false,
     "start_time": "2024-02-14T15:17:12.971016",
     "status": "completed"
    },
    "tags": []
   },
   "source": [
    "## Choose the best model and build model again"
   ]
  },
  {
   "cell_type": "code",
   "execution_count": 37,
   "id": "d90afd2e",
   "metadata": {
    "execution": {
     "iopub.execute_input": "2024-02-14T15:17:13.051347Z",
     "iopub.status.busy": "2024-02-14T15:17:13.050484Z",
     "iopub.status.idle": "2024-02-14T15:17:13.093838Z",
     "shell.execute_reply": "2024-02-14T15:17:13.092289Z"
    },
    "papermill": {
     "duration": 0.074315,
     "end_time": "2024-02-14T15:17:13.096555",
     "exception": false,
     "start_time": "2024-02-14T15:17:13.022240",
     "status": "completed"
    },
    "tags": []
   },
   "outputs": [
    {
     "data": {
      "text/html": [
       "<div>\n",
       "<style scoped>\n",
       "    .dataframe tbody tr th:only-of-type {\n",
       "        vertical-align: middle;\n",
       "    }\n",
       "\n",
       "    .dataframe tbody tr th {\n",
       "        vertical-align: top;\n",
       "    }\n",
       "\n",
       "    .dataframe thead th {\n",
       "        text-align: right;\n",
       "    }\n",
       "</style>\n",
       "<table border=\"1\" class=\"dataframe\">\n",
       "  <thead>\n",
       "    <tr style=\"text-align: right;\">\n",
       "      <th></th>\n",
       "      <th>id</th>\n",
       "      <th>keyword</th>\n",
       "      <th>location</th>\n",
       "      <th>text</th>\n",
       "    </tr>\n",
       "  </thead>\n",
       "  <tbody>\n",
       "    <tr>\n",
       "      <th>0</th>\n",
       "      <td>0</td>\n",
       "      <td>NaN</td>\n",
       "      <td>NaN</td>\n",
       "      <td>Just happened a terrible car crash</td>\n",
       "    </tr>\n",
       "    <tr>\n",
       "      <th>1</th>\n",
       "      <td>2</td>\n",
       "      <td>NaN</td>\n",
       "      <td>NaN</td>\n",
       "      <td>Heard about #earthquake is different cities, s...</td>\n",
       "    </tr>\n",
       "    <tr>\n",
       "      <th>2</th>\n",
       "      <td>3</td>\n",
       "      <td>NaN</td>\n",
       "      <td>NaN</td>\n",
       "      <td>there is a forest fire at spot pond, geese are...</td>\n",
       "    </tr>\n",
       "    <tr>\n",
       "      <th>3</th>\n",
       "      <td>9</td>\n",
       "      <td>NaN</td>\n",
       "      <td>NaN</td>\n",
       "      <td>Apocalypse lighting. #Spokane #wildfires</td>\n",
       "    </tr>\n",
       "    <tr>\n",
       "      <th>4</th>\n",
       "      <td>11</td>\n",
       "      <td>NaN</td>\n",
       "      <td>NaN</td>\n",
       "      <td>Typhoon Soudelor kills 28 in China and Taiwan</td>\n",
       "    </tr>\n",
       "  </tbody>\n",
       "</table>\n",
       "</div>"
      ],
      "text/plain": [
       "   id keyword location                                               text\n",
       "0   0     NaN      NaN                 Just happened a terrible car crash\n",
       "1   2     NaN      NaN  Heard about #earthquake is different cities, s...\n",
       "2   3     NaN      NaN  there is a forest fire at spot pond, geese are...\n",
       "3   9     NaN      NaN           Apocalypse lighting. #Spokane #wildfires\n",
       "4  11     NaN      NaN      Typhoon Soudelor kills 28 in China and Taiwan"
      ]
     },
     "execution_count": 37,
     "metadata": {},
     "output_type": "execute_result"
    }
   ],
   "source": [
    "df1 = pd.read_csv('/kaggle/input/ipba-17-nlp-with-disaster-tweets-2024/test.csv')\n",
    "df1.head()"
   ]
  },
  {
   "cell_type": "code",
   "execution_count": 38,
   "id": "51defb6e",
   "metadata": {
    "execution": {
     "iopub.execute_input": "2024-02-14T15:17:13.150486Z",
     "iopub.status.busy": "2024-02-14T15:17:13.150096Z",
     "iopub.status.idle": "2024-02-14T15:17:13.164173Z",
     "shell.execute_reply": "2024-02-14T15:17:13.162798Z"
    },
    "papermill": {
     "duration": 0.044715,
     "end_time": "2024-02-14T15:17:13.167497",
     "exception": false,
     "start_time": "2024-02-14T15:17:13.122782",
     "status": "completed"
    },
    "tags": []
   },
   "outputs": [
    {
     "name": "stdout",
     "output_type": "stream",
     "text": [
      "<class 'pandas.core.frame.DataFrame'>\n",
      "RangeIndex: 3263 entries, 0 to 3262\n",
      "Data columns (total 4 columns):\n",
      " #   Column    Non-Null Count  Dtype \n",
      "---  ------    --------------  ----- \n",
      " 0   id        3263 non-null   int64 \n",
      " 1   keyword   3237 non-null   object\n",
      " 2   location  2158 non-null   object\n",
      " 3   text      3263 non-null   object\n",
      "dtypes: int64(1), object(3)\n",
      "memory usage: 102.1+ KB\n"
     ]
    }
   ],
   "source": [
    "df1.info()"
   ]
  },
  {
   "cell_type": "code",
   "execution_count": 39,
   "id": "e672f172",
   "metadata": {
    "execution": {
     "iopub.execute_input": "2024-02-14T15:17:13.222131Z",
     "iopub.status.busy": "2024-02-14T15:17:13.221719Z",
     "iopub.status.idle": "2024-02-14T15:17:13.229383Z",
     "shell.execute_reply": "2024-02-14T15:17:13.228188Z"
    },
    "papermill": {
     "duration": 0.038033,
     "end_time": "2024-02-14T15:17:13.231793",
     "exception": false,
     "start_time": "2024-02-14T15:17:13.193760",
     "status": "completed"
    },
    "tags": []
   },
   "outputs": [
    {
     "data": {
      "text/plain": [
       "(3263, 4)"
      ]
     },
     "execution_count": 39,
     "metadata": {},
     "output_type": "execute_result"
    }
   ],
   "source": [
    "df1.shape"
   ]
  },
  {
   "cell_type": "code",
   "execution_count": 40,
   "id": "be263500",
   "metadata": {
    "execution": {
     "iopub.execute_input": "2024-02-14T15:17:13.286094Z",
     "iopub.status.busy": "2024-02-14T15:17:13.285702Z",
     "iopub.status.idle": "2024-02-14T15:17:13.294769Z",
     "shell.execute_reply": "2024-02-14T15:17:13.293223Z"
    },
    "papermill": {
     "duration": 0.038635,
     "end_time": "2024-02-14T15:17:13.297141",
     "exception": false,
     "start_time": "2024-02-14T15:17:13.258506",
     "status": "completed"
    },
    "tags": []
   },
   "outputs": [],
   "source": [
    "df1['text_length1'] = df1['text'].apply(lambda x : len(x))"
   ]
  },
  {
   "cell_type": "code",
   "execution_count": 41,
   "id": "0a88f102",
   "metadata": {
    "execution": {
     "iopub.execute_input": "2024-02-14T15:17:13.350883Z",
     "iopub.status.busy": "2024-02-14T15:17:13.349933Z",
     "iopub.status.idle": "2024-02-14T15:17:13.358964Z",
     "shell.execute_reply": "2024-02-14T15:17:13.357608Z"
    },
    "papermill": {
     "duration": 0.038441,
     "end_time": "2024-02-14T15:17:13.361504",
     "exception": false,
     "start_time": "2024-02-14T15:17:13.323063",
     "status": "completed"
    },
    "tags": []
   },
   "outputs": [
    {
     "data": {
      "text/plain": [
       "151"
      ]
     },
     "execution_count": 41,
     "metadata": {},
     "output_type": "execute_result"
    }
   ],
   "source": [
    "max(df1['text_length1'])"
   ]
  },
  {
   "cell_type": "code",
   "execution_count": 42,
   "id": "81a9621a",
   "metadata": {
    "execution": {
     "iopub.execute_input": "2024-02-14T15:17:13.416127Z",
     "iopub.status.busy": "2024-02-14T15:17:13.415652Z",
     "iopub.status.idle": "2024-02-14T15:17:13.689316Z",
     "shell.execute_reply": "2024-02-14T15:17:13.688239Z"
    },
    "papermill": {
     "duration": 0.304346,
     "end_time": "2024-02-14T15:17:13.692198",
     "exception": false,
     "start_time": "2024-02-14T15:17:13.387852",
     "status": "completed"
    },
    "tags": []
   },
   "outputs": [
    {
     "data": {
      "text/plain": [
       "<Axes: ylabel='Frequency'>"
      ]
     },
     "execution_count": 42,
     "metadata": {},
     "output_type": "execute_result"
    },
    {
     "data": {
      "image/png": "[encoded data removed]",
      "text/plain": [
       "<Figure size 640x480 with 1 Axes>"
      ]
     },
     "metadata": {},
     "output_type": "display_data"
    }
   ],
   "source": [
    "df1['text_length1'].plot.hist(bins = 30)"
   ]
  },
  {
   "cell_type": "code",
   "execution_count": 43,
   "id": "eec1e360",
   "metadata": {
    "execution": {
     "iopub.execute_input": "2024-02-14T15:17:13.749338Z",
     "iopub.status.busy": "2024-02-14T15:17:13.748850Z",
     "iopub.status.idle": "2024-02-14T15:17:13.763158Z",
     "shell.execute_reply": "2024-02-14T15:17:13.761895Z"
    },
    "papermill": {
     "duration": 0.046034,
     "end_time": "2024-02-14T15:17:13.765929",
     "exception": false,
     "start_time": "2024-02-14T15:17:13.719895",
     "status": "completed"
    },
    "tags": []
   },
   "outputs": [
    {
     "data": {
      "text/html": [
       "<div>\n",
       "<style scoped>\n",
       "    .dataframe tbody tr th:only-of-type {\n",
       "        vertical-align: middle;\n",
       "    }\n",
       "\n",
       "    .dataframe tbody tr th {\n",
       "        vertical-align: top;\n",
       "    }\n",
       "\n",
       "    .dataframe thead th {\n",
       "        text-align: right;\n",
       "    }\n",
       "</style>\n",
       "<table border=\"1\" class=\"dataframe\">\n",
       "  <thead>\n",
       "    <tr style=\"text-align: right;\">\n",
       "      <th></th>\n",
       "      <th>id</th>\n",
       "      <th>keyword</th>\n",
       "      <th>location</th>\n",
       "      <th>text</th>\n",
       "      <th>text_length1</th>\n",
       "    </tr>\n",
       "  </thead>\n",
       "  <tbody>\n",
       "    <tr>\n",
       "      <th>0</th>\n",
       "      <td>0</td>\n",
       "      <td>NaN</td>\n",
       "      <td>NaN</td>\n",
       "      <td>Just happened a terrible car crash</td>\n",
       "      <td>34</td>\n",
       "    </tr>\n",
       "    <tr>\n",
       "      <th>1</th>\n",
       "      <td>2</td>\n",
       "      <td>NaN</td>\n",
       "      <td>NaN</td>\n",
       "      <td>Heard about #earthquake is different cities, s...</td>\n",
       "      <td>64</td>\n",
       "    </tr>\n",
       "    <tr>\n",
       "      <th>2</th>\n",
       "      <td>3</td>\n",
       "      <td>NaN</td>\n",
       "      <td>NaN</td>\n",
       "      <td>there is a forest fire at spot pond, geese are...</td>\n",
       "      <td>96</td>\n",
       "    </tr>\n",
       "    <tr>\n",
       "      <th>3</th>\n",
       "      <td>9</td>\n",
       "      <td>NaN</td>\n",
       "      <td>NaN</td>\n",
       "      <td>Apocalypse lighting. #Spokane #wildfires</td>\n",
       "      <td>40</td>\n",
       "    </tr>\n",
       "    <tr>\n",
       "      <th>4</th>\n",
       "      <td>11</td>\n",
       "      <td>NaN</td>\n",
       "      <td>NaN</td>\n",
       "      <td>Typhoon Soudelor kills 28 in China and Taiwan</td>\n",
       "      <td>45</td>\n",
       "    </tr>\n",
       "  </tbody>\n",
       "</table>\n",
       "</div>"
      ],
      "text/plain": [
       "   id keyword location                                               text  \\\n",
       "0   0     NaN      NaN                 Just happened a terrible car crash   \n",
       "1   2     NaN      NaN  Heard about #earthquake is different cities, s...   \n",
       "2   3     NaN      NaN  there is a forest fire at spot pond, geese are...   \n",
       "3   9     NaN      NaN           Apocalypse lighting. #Spokane #wildfires   \n",
       "4  11     NaN      NaN      Typhoon Soudelor kills 28 in China and Taiwan   \n",
       "\n",
       "   text_length1  \n",
       "0            34  \n",
       "1            64  \n",
       "2            96  \n",
       "3            40  \n",
       "4            45  "
      ]
     },
     "execution_count": 43,
     "metadata": {},
     "output_type": "execute_result"
    }
   ],
   "source": [
    "df1.head()"
   ]
  },
  {
   "cell_type": "code",
   "execution_count": 44,
   "id": "13cefdce",
   "metadata": {
    "execution": {
     "iopub.execute_input": "2024-02-14T15:17:13.821987Z",
     "iopub.status.busy": "2024-02-14T15:17:13.821585Z",
     "iopub.status.idle": "2024-02-14T15:17:13.830412Z",
     "shell.execute_reply": "2024-02-14T15:17:13.829184Z"
    },
    "papermill": {
     "duration": 0.039799,
     "end_time": "2024-02-14T15:17:13.832921",
     "exception": false,
     "start_time": "2024-02-14T15:17:13.793122",
     "status": "completed"
    },
    "tags": []
   },
   "outputs": [
    {
     "name": "stdout",
     "output_type": "stream",
     "text": [
      "id                 0\n",
      "keyword           26\n",
      "location        1105\n",
      "text               0\n",
      "text_length1       0\n",
      "dtype: int64\n"
     ]
    }
   ],
   "source": [
    "print(df1.isnull().sum())"
   ]
  },
  {
   "cell_type": "code",
   "execution_count": 45,
   "id": "b504f2aa",
   "metadata": {
    "execution": {
     "iopub.execute_input": "2024-02-14T15:17:13.889463Z",
     "iopub.status.busy": "2024-02-14T15:17:13.889091Z",
     "iopub.status.idle": "2024-02-14T15:17:13.897339Z",
     "shell.execute_reply": "2024-02-14T15:17:13.895924Z"
    },
    "papermill": {
     "duration": 0.040013,
     "end_time": "2024-02-14T15:17:13.900080",
     "exception": false,
     "start_time": "2024-02-14T15:17:13.860067",
     "status": "completed"
    },
    "tags": []
   },
   "outputs": [
    {
     "name": "stderr",
     "output_type": "stream",
     "text": [
      "/tmp/ipykernel_18/3427546185.py:1: FutureWarning: A value is trying to be set on a copy of a DataFrame or Series through chained assignment using an inplace method.\n",
      "The behavior will change in pandas 3.0. This inplace method will never work because the intermediate object on which we are setting values always behaves as a copy.\n",
      "\n",
      "For example, when doing 'df[col].method(value, inplace=True)', try using 'df.method({col: value}, inplace=True)' or df[col] = df[col].method(value) instead, to perform the operation inplace on the original object.\n",
      "\n",
      "\n",
      "  df1['keyword'].fillna('empty', inplace=True)\n",
      "/tmp/ipykernel_18/3427546185.py:2: FutureWarning: A value is trying to be set on a copy of a DataFrame or Series through chained assignment using an inplace method.\n",
      "The behavior will change in pandas 3.0. This inplace method will never work because the intermediate object on which we are setting values always behaves as a copy.\n",
      "\n",
      "For example, when doing 'df[col].method(value, inplace=True)', try using 'df.method({col: value}, inplace=True)' or df[col] = df[col].method(value) instead, to perform the operation inplace on the original object.\n",
      "\n",
      "\n",
      "  df1['location'].fillna('empty', inplace=True)\n"
     ]
    }
   ],
   "source": [
    "df1['keyword'].fillna('empty', inplace=True)\n",
    "df1['location'].fillna('empty', inplace=True)"
   ]
  },
  {
   "cell_type": "code",
   "execution_count": 46,
   "id": "1ef61d74",
   "metadata": {
    "execution": {
     "iopub.execute_input": "2024-02-14T15:17:13.958129Z",
     "iopub.status.busy": "2024-02-14T15:17:13.957647Z",
     "iopub.status.idle": "2024-02-14T15:17:13.967948Z",
     "shell.execute_reply": "2024-02-14T15:17:13.966516Z"
    },
    "papermill": {
     "duration": 0.042795,
     "end_time": "2024-02-14T15:17:13.970612",
     "exception": false,
     "start_time": "2024-02-14T15:17:13.927817",
     "status": "completed"
    },
    "tags": []
   },
   "outputs": [
    {
     "name": "stdout",
     "output_type": "stream",
     "text": [
      "id              0\n",
      "keyword         0\n",
      "location        0\n",
      "text            0\n",
      "text_length1    0\n",
      "dtype: int64\n"
     ]
    }
   ],
   "source": [
    "print(df1.isnull().sum())"
   ]
  },
  {
   "cell_type": "code",
   "execution_count": 47,
   "id": "719f6815",
   "metadata": {
    "execution": {
     "iopub.execute_input": "2024-02-14T15:17:14.028091Z",
     "iopub.status.busy": "2024-02-14T15:17:14.027596Z",
     "iopub.status.idle": "2024-02-14T15:17:14.045172Z",
     "shell.execute_reply": "2024-02-14T15:17:14.043868Z"
    },
    "papermill": {
     "duration": 0.049578,
     "end_time": "2024-02-14T15:17:14.047495",
     "exception": false,
     "start_time": "2024-02-14T15:17:13.997917",
     "status": "completed"
    },
    "tags": []
   },
   "outputs": [
    {
     "data": {
      "text/plain": [
       "0       empty\n",
       "1       empty\n",
       "2       empty\n",
       "3       empty\n",
       "4       empty\n",
       "        ...  \n",
       "3258    empty\n",
       "3259    empty\n",
       "3260    empty\n",
       "3261    empty\n",
       "3262    empty\n",
       "Name: location, Length: 3263, dtype: object"
      ]
     },
     "execution_count": 47,
     "metadata": {},
     "output_type": "execute_result"
    }
   ],
   "source": [
    "df1['text'].apply(lambda x : x.lower())\n",
    "df1['keyword'].apply(lambda x : x.lower())\n",
    "df1['location'].apply(lambda x : x.lower())"
   ]
  },
  {
   "cell_type": "code",
   "execution_count": 48,
   "id": "37e9cb95",
   "metadata": {
    "execution": {
     "iopub.execute_input": "2024-02-14T15:17:14.104720Z",
     "iopub.status.busy": "2024-02-14T15:17:14.103818Z",
     "iopub.status.idle": "2024-02-14T15:17:14.117909Z",
     "shell.execute_reply": "2024-02-14T15:17:14.116729Z"
    },
    "papermill": {
     "duration": 0.045443,
     "end_time": "2024-02-14T15:17:14.120266",
     "exception": false,
     "start_time": "2024-02-14T15:17:14.074823",
     "status": "completed"
    },
    "tags": []
   },
   "outputs": [],
   "source": [
    "df1['text'] = df1['text'].apply(lambda x : x.lower())\n",
    "df1['keyword'] = df1['keyword'].apply(lambda x : x.lower())\n",
    "df1['location'] = df1['location'].apply(lambda x : x.lower())"
   ]
  },
  {
   "cell_type": "code",
   "execution_count": 49,
   "id": "35fe8577",
   "metadata": {
    "execution": {
     "iopub.execute_input": "2024-02-14T15:17:14.179237Z",
     "iopub.status.busy": "2024-02-14T15:17:14.178759Z",
     "iopub.status.idle": "2024-02-14T15:17:14.193087Z",
     "shell.execute_reply": "2024-02-14T15:17:14.191809Z"
    },
    "papermill": {
     "duration": 0.047056,
     "end_time": "2024-02-14T15:17:14.195374",
     "exception": false,
     "start_time": "2024-02-14T15:17:14.148318",
     "status": "completed"
    },
    "tags": []
   },
   "outputs": [
    {
     "data": {
      "text/html": [
       "<div>\n",
       "<style scoped>\n",
       "    .dataframe tbody tr th:only-of-type {\n",
       "        vertical-align: middle;\n",
       "    }\n",
       "\n",
       "    .dataframe tbody tr th {\n",
       "        vertical-align: top;\n",
       "    }\n",
       "\n",
       "    .dataframe thead th {\n",
       "        text-align: right;\n",
       "    }\n",
       "</style>\n",
       "<table border=\"1\" class=\"dataframe\">\n",
       "  <thead>\n",
       "    <tr style=\"text-align: right;\">\n",
       "      <th></th>\n",
       "      <th>id</th>\n",
       "      <th>keyword</th>\n",
       "      <th>location</th>\n",
       "      <th>text</th>\n",
       "      <th>text_length1</th>\n",
       "    </tr>\n",
       "  </thead>\n",
       "  <tbody>\n",
       "    <tr>\n",
       "      <th>0</th>\n",
       "      <td>0</td>\n",
       "      <td>empty</td>\n",
       "      <td>empty</td>\n",
       "      <td>just happened a terrible car crash</td>\n",
       "      <td>34</td>\n",
       "    </tr>\n",
       "    <tr>\n",
       "      <th>1</th>\n",
       "      <td>2</td>\n",
       "      <td>empty</td>\n",
       "      <td>empty</td>\n",
       "      <td>heard about #earthquake is different cities, s...</td>\n",
       "      <td>64</td>\n",
       "    </tr>\n",
       "    <tr>\n",
       "      <th>2</th>\n",
       "      <td>3</td>\n",
       "      <td>empty</td>\n",
       "      <td>empty</td>\n",
       "      <td>there is a forest fire at spot pond, geese are...</td>\n",
       "      <td>96</td>\n",
       "    </tr>\n",
       "    <tr>\n",
       "      <th>3</th>\n",
       "      <td>9</td>\n",
       "      <td>empty</td>\n",
       "      <td>empty</td>\n",
       "      <td>apocalypse lighting. #spokane #wildfires</td>\n",
       "      <td>40</td>\n",
       "    </tr>\n",
       "    <tr>\n",
       "      <th>4</th>\n",
       "      <td>11</td>\n",
       "      <td>empty</td>\n",
       "      <td>empty</td>\n",
       "      <td>typhoon soudelor kills 28 in china and taiwan</td>\n",
       "      <td>45</td>\n",
       "    </tr>\n",
       "  </tbody>\n",
       "</table>\n",
       "</div>"
      ],
      "text/plain": [
       "   id keyword location                                               text  \\\n",
       "0   0   empty    empty                 just happened a terrible car crash   \n",
       "1   2   empty    empty  heard about #earthquake is different cities, s...   \n",
       "2   3   empty    empty  there is a forest fire at spot pond, geese are...   \n",
       "3   9   empty    empty           apocalypse lighting. #spokane #wildfires   \n",
       "4  11   empty    empty      typhoon soudelor kills 28 in china and taiwan   \n",
       "\n",
       "   text_length1  \n",
       "0            34  \n",
       "1            64  \n",
       "2            96  \n",
       "3            40  \n",
       "4            45  "
      ]
     },
     "execution_count": 49,
     "metadata": {},
     "output_type": "execute_result"
    }
   ],
   "source": [
    "df1.head(5)"
   ]
  },
  {
   "cell_type": "code",
   "execution_count": 50,
   "id": "79f2fca0",
   "metadata": {
    "execution": {
     "iopub.execute_input": "2024-02-14T15:17:14.253049Z",
     "iopub.status.busy": "2024-02-14T15:17:14.252568Z",
     "iopub.status.idle": "2024-02-14T15:17:14.305418Z",
     "shell.execute_reply": "2024-02-14T15:17:14.304237Z"
    },
    "papermill": {
     "duration": 0.084676,
     "end_time": "2024-02-14T15:17:14.308077",
     "exception": false,
     "start_time": "2024-02-14T15:17:14.223401",
     "status": "completed"
    },
    "tags": []
   },
   "outputs": [],
   "source": [
    "import re\n",
    "# Function to remove punctuation from a given text\n",
    "def remove_punctuation(text):\n",
    "    # Use a regular expression to remove punctuation\n",
    "    return re.sub(r'[^\\w\\s]', '', text)\n",
    "\n",
    "# Apply the function to the 'text' column\n",
    "df1['text'] = df1['text'].apply(remove_punctuation)\n",
    "\n",
    "# Function to remove punctuation from a given text\n",
    "def remove_punctuation(keyword):\n",
    "    # Use a regular expression to remove punctuation\n",
    "    return re.sub(r'[^\\w\\s]', '', keyword)\n",
    "\n",
    "# Apply the function to the 'text' column\n",
    "df1['keyword'] = df1['keyword'].apply(remove_punctuation)\n",
    "\n",
    "# Function to remove punctuation from a given text\n",
    "def remove_punctuation(location):\n",
    "    # Use a regular expression to remove punctuation\n",
    "    return re.sub(r'[^\\w\\s]', '', location)\n",
    "\n",
    "# Apply the function to the 'text' column\n",
    "df1['location'] = df1['location'].apply(remove_punctuation)"
   ]
  },
  {
   "cell_type": "code",
   "execution_count": 51,
   "id": "ec223748",
   "metadata": {
    "execution": {
     "iopub.execute_input": "2024-02-14T15:17:14.366202Z",
     "iopub.status.busy": "2024-02-14T15:17:14.365774Z",
     "iopub.status.idle": "2024-02-14T15:17:14.373064Z",
     "shell.execute_reply": "2024-02-14T15:17:14.371728Z"
    },
    "papermill": {
     "duration": 0.039003,
     "end_time": "2024-02-14T15:17:14.375570",
     "exception": false,
     "start_time": "2024-02-14T15:17:14.336567",
     "status": "completed"
    },
    "tags": []
   },
   "outputs": [
    {
     "name": "stdout",
     "output_type": "stream",
     "text": [
      "[nltk_data] Downloading package stopwords to /usr/share/nltk_data...\n",
      "[nltk_data]   Package stopwords is already up-to-date!\n"
     ]
    }
   ],
   "source": [
    "nltk.download('stopwords')\n",
    "stop = stopwords.words('english')"
   ]
  },
  {
   "cell_type": "code",
   "execution_count": 52,
   "id": "5e53c25d",
   "metadata": {
    "execution": {
     "iopub.execute_input": "2024-02-14T15:17:14.434699Z",
     "iopub.status.busy": "2024-02-14T15:17:14.434214Z",
     "iopub.status.idle": "2024-02-14T15:17:14.446298Z",
     "shell.execute_reply": "2024-02-14T15:17:14.445058Z"
    },
    "papermill": {
     "duration": 0.044491,
     "end_time": "2024-02-14T15:17:14.448729",
     "exception": false,
     "start_time": "2024-02-14T15:17:14.404238",
     "status": "completed"
    },
    "tags": []
   },
   "outputs": [
    {
     "data": {
      "text/plain": [
       "['i',\n",
       " 'me',\n",
       " 'my',\n",
       " 'myself',\n",
       " 'we',\n",
       " 'our',\n",
       " 'ours',\n",
       " 'ourselves',\n",
       " 'you',\n",
       " \"you're\",\n",
       " \"you've\",\n",
       " \"you'll\",\n",
       " \"you'd\",\n",
       " 'your',\n",
       " 'yours',\n",
       " 'yourself',\n",
       " 'yourselves',\n",
       " 'he',\n",
       " 'him',\n",
       " 'his',\n",
       " 'himself',\n",
       " 'she',\n",
       " \"she's\",\n",
       " 'her',\n",
       " 'hers',\n",
       " 'herself',\n",
       " 'it',\n",
       " \"it's\",\n",
       " 'its',\n",
       " 'itself',\n",
       " 'they',\n",
       " 'them',\n",
       " 'their',\n",
       " 'theirs',\n",
       " 'themselves',\n",
       " 'what',\n",
       " 'which',\n",
       " 'who',\n",
       " 'whom',\n",
       " 'this',\n",
       " 'that',\n",
       " \"that'll\",\n",
       " 'these',\n",
       " 'those',\n",
       " 'am',\n",
       " 'is',\n",
       " 'are',\n",
       " 'was',\n",
       " 'were',\n",
       " 'be',\n",
       " 'been',\n",
       " 'being',\n",
       " 'have',\n",
       " 'has',\n",
       " 'had',\n",
       " 'having',\n",
       " 'do',\n",
       " 'does',\n",
       " 'did',\n",
       " 'doing',\n",
       " 'a',\n",
       " 'an',\n",
       " 'the',\n",
       " 'and',\n",
       " 'but',\n",
       " 'if',\n",
       " 'or',\n",
       " 'because',\n",
       " 'as',\n",
       " 'until',\n",
       " 'while',\n",
       " 'of',\n",
       " 'at',\n",
       " 'by',\n",
       " 'for',\n",
       " 'with',\n",
       " 'about',\n",
       " 'against',\n",
       " 'between',\n",
       " 'into',\n",
       " 'through',\n",
       " 'during',\n",
       " 'before',\n",
       " 'after',\n",
       " 'above',\n",
       " 'below',\n",
       " 'to',\n",
       " 'from',\n",
       " 'up',\n",
       " 'down',\n",
       " 'in',\n",
       " 'out',\n",
       " 'on',\n",
       " 'off',\n",
       " 'over',\n",
       " 'under',\n",
       " 'again',\n",
       " 'further',\n",
       " 'then',\n",
       " 'once',\n",
       " 'here',\n",
       " 'there',\n",
       " 'when',\n",
       " 'where',\n",
       " 'why',\n",
       " 'how',\n",
       " 'all',\n",
       " 'any',\n",
       " 'both',\n",
       " 'each',\n",
       " 'few',\n",
       " 'more',\n",
       " 'most',\n",
       " 'other',\n",
       " 'some',\n",
       " 'such',\n",
       " 'no',\n",
       " 'nor',\n",
       " 'not',\n",
       " 'only',\n",
       " 'own',\n",
       " 'same',\n",
       " 'so',\n",
       " 'than',\n",
       " 'too',\n",
       " 'very',\n",
       " 's',\n",
       " 't',\n",
       " 'can',\n",
       " 'will',\n",
       " 'just',\n",
       " 'don',\n",
       " \"don't\",\n",
       " 'should',\n",
       " \"should've\",\n",
       " 'now',\n",
       " 'd',\n",
       " 'll',\n",
       " 'm',\n",
       " 'o',\n",
       " 're',\n",
       " 've',\n",
       " 'y',\n",
       " 'ain',\n",
       " 'aren',\n",
       " \"aren't\",\n",
       " 'couldn',\n",
       " \"couldn't\",\n",
       " 'didn',\n",
       " \"didn't\",\n",
       " 'doesn',\n",
       " \"doesn't\",\n",
       " 'hadn',\n",
       " \"hadn't\",\n",
       " 'hasn',\n",
       " \"hasn't\",\n",
       " 'haven',\n",
       " \"haven't\",\n",
       " 'isn',\n",
       " \"isn't\",\n",
       " 'ma',\n",
       " 'mightn',\n",
       " \"mightn't\",\n",
       " 'mustn',\n",
       " \"mustn't\",\n",
       " 'needn',\n",
       " \"needn't\",\n",
       " 'shan',\n",
       " \"shan't\",\n",
       " 'shouldn',\n",
       " \"shouldn't\",\n",
       " 'wasn',\n",
       " \"wasn't\",\n",
       " 'weren',\n",
       " \"weren't\",\n",
       " 'won',\n",
       " \"won't\",\n",
       " 'wouldn',\n",
       " \"wouldn't\"]"
      ]
     },
     "execution_count": 52,
     "metadata": {},
     "output_type": "execute_result"
    }
   ],
   "source": [
    "stop"
   ]
  },
  {
   "cell_type": "code",
   "execution_count": 53,
   "id": "02ee9340",
   "metadata": {
    "execution": {
     "iopub.execute_input": "2024-02-14T15:17:14.507666Z",
     "iopub.status.busy": "2024-02-14T15:17:14.507213Z",
     "iopub.status.idle": "2024-02-14T15:17:14.670682Z",
     "shell.execute_reply": "2024-02-14T15:17:14.669336Z"
    },
    "papermill": {
     "duration": 0.196193,
     "end_time": "2024-02-14T15:17:14.673323",
     "exception": false,
     "start_time": "2024-02-14T15:17:14.477130",
     "status": "completed"
    },
    "tags": []
   },
   "outputs": [
    {
     "data": {
      "text/plain": [
       "0       [empty]\n",
       "1       [empty]\n",
       "2       [empty]\n",
       "3       [empty]\n",
       "4       [empty]\n",
       "         ...   \n",
       "3258    [empty]\n",
       "3259    [empty]\n",
       "3260    [empty]\n",
       "3261    [empty]\n",
       "3262    [empty]\n",
       "Name: location, Length: 3263, dtype: object"
      ]
     },
     "execution_count": 53,
     "metadata": {},
     "output_type": "execute_result"
    }
   ],
   "source": [
    "# Tokenize and Remove Stop Words\n",
    "df1['text'].apply(lambda x: [word for word in x.split() if word not in stop])\n",
    "df1['keyword'].apply(lambda x: [word for word in x.split() if word not in stop])\n",
    "df1['location'].apply(lambda x: [word for word in x.split() if word not in stop])"
   ]
  },
  {
   "cell_type": "code",
   "execution_count": 54,
   "id": "380c4f96",
   "metadata": {
    "execution": {
     "iopub.execute_input": "2024-02-14T15:17:14.737271Z",
     "iopub.status.busy": "2024-02-14T15:17:14.736844Z",
     "iopub.status.idle": "2024-02-14T15:17:14.891606Z",
     "shell.execute_reply": "2024-02-14T15:17:14.890459Z"
    },
    "papermill": {
     "duration": 0.190414,
     "end_time": "2024-02-14T15:17:14.894816",
     "exception": false,
     "start_time": "2024-02-14T15:17:14.704402",
     "status": "completed"
    },
    "tags": []
   },
   "outputs": [],
   "source": [
    "# Join the words back\n",
    "df1['text'] = df1['text'].apply(lambda x: ' '.join([word for word in x.split() if word not in (stop)]))\n",
    "df1['keyword'] = df1['keyword'].apply(lambda x: ' '.join([word for word in x.split() if word not in (stop)]))\n",
    "df1['location'] = df1['location'].apply(lambda x: ' '.join([word for word in x.split() if word not in (stop)]))"
   ]
  },
  {
   "cell_type": "code",
   "execution_count": 55,
   "id": "6474c45d",
   "metadata": {
    "execution": {
     "iopub.execute_input": "2024-02-14T15:17:14.958106Z",
     "iopub.status.busy": "2024-02-14T15:17:14.957197Z",
     "iopub.status.idle": "2024-02-14T15:17:14.970457Z",
     "shell.execute_reply": "2024-02-14T15:17:14.969059Z"
    },
    "papermill": {
     "duration": 0.048014,
     "end_time": "2024-02-14T15:17:14.973357",
     "exception": false,
     "start_time": "2024-02-14T15:17:14.925343",
     "status": "completed"
    },
    "tags": []
   },
   "outputs": [
    {
     "data": {
      "text/html": [
       "<div>\n",
       "<style scoped>\n",
       "    .dataframe tbody tr th:only-of-type {\n",
       "        vertical-align: middle;\n",
       "    }\n",
       "\n",
       "    .dataframe tbody tr th {\n",
       "        vertical-align: top;\n",
       "    }\n",
       "\n",
       "    .dataframe thead th {\n",
       "        text-align: right;\n",
       "    }\n",
       "</style>\n",
       "<table border=\"1\" class=\"dataframe\">\n",
       "  <thead>\n",
       "    <tr style=\"text-align: right;\">\n",
       "      <th></th>\n",
       "      <th>id</th>\n",
       "      <th>keyword</th>\n",
       "      <th>location</th>\n",
       "      <th>text</th>\n",
       "      <th>text_length1</th>\n",
       "    </tr>\n",
       "  </thead>\n",
       "  <tbody>\n",
       "    <tr>\n",
       "      <th>0</th>\n",
       "      <td>0</td>\n",
       "      <td>empty</td>\n",
       "      <td>empty</td>\n",
       "      <td>happened terrible car crash</td>\n",
       "      <td>34</td>\n",
       "    </tr>\n",
       "    <tr>\n",
       "      <th>1</th>\n",
       "      <td>2</td>\n",
       "      <td>empty</td>\n",
       "      <td>empty</td>\n",
       "      <td>heard earthquake different cities stay safe ev...</td>\n",
       "      <td>64</td>\n",
       "    </tr>\n",
       "    <tr>\n",
       "      <th>2</th>\n",
       "      <td>3</td>\n",
       "      <td>empty</td>\n",
       "      <td>empty</td>\n",
       "      <td>forest fire spot pond geese fleeing across str...</td>\n",
       "      <td>96</td>\n",
       "    </tr>\n",
       "    <tr>\n",
       "      <th>3</th>\n",
       "      <td>9</td>\n",
       "      <td>empty</td>\n",
       "      <td>empty</td>\n",
       "      <td>apocalypse lighting spokane wildfires</td>\n",
       "      <td>40</td>\n",
       "    </tr>\n",
       "    <tr>\n",
       "      <th>4</th>\n",
       "      <td>11</td>\n",
       "      <td>empty</td>\n",
       "      <td>empty</td>\n",
       "      <td>typhoon soudelor kills 28 china taiwan</td>\n",
       "      <td>45</td>\n",
       "    </tr>\n",
       "  </tbody>\n",
       "</table>\n",
       "</div>"
      ],
      "text/plain": [
       "   id keyword location                                               text  \\\n",
       "0   0   empty    empty                        happened terrible car crash   \n",
       "1   2   empty    empty  heard earthquake different cities stay safe ev...   \n",
       "2   3   empty    empty  forest fire spot pond geese fleeing across str...   \n",
       "3   9   empty    empty              apocalypse lighting spokane wildfires   \n",
       "4  11   empty    empty             typhoon soudelor kills 28 china taiwan   \n",
       "\n",
       "   text_length1  \n",
       "0            34  \n",
       "1            64  \n",
       "2            96  \n",
       "3            40  \n",
       "4            45  "
      ]
     },
     "execution_count": 55,
     "metadata": {},
     "output_type": "execute_result"
    }
   ],
   "source": [
    "df1.head()"
   ]
  },
  {
   "cell_type": "code",
   "execution_count": 56,
   "id": "03bab4e5",
   "metadata": {
    "execution": {
     "iopub.execute_input": "2024-02-14T15:17:15.036399Z",
     "iopub.status.busy": "2024-02-14T15:17:15.035915Z",
     "iopub.status.idle": "2024-02-14T15:17:15.177125Z",
     "shell.execute_reply": "2024-02-14T15:17:15.175743Z"
    },
    "papermill": {
     "duration": 0.177147,
     "end_time": "2024-02-14T15:17:15.180613",
     "exception": false,
     "start_time": "2024-02-14T15:17:15.003466",
     "status": "completed"
    },
    "tags": []
   },
   "outputs": [
    {
     "name": "stdout",
     "output_type": "stream",
     "text": [
      "[nltk_data] Downloading package omw-1.4 to /usr/share/nltk_data...\n",
      "[nltk_data]   Package omw-1.4 is already up-to-date!\n"
     ]
    },
    {
     "data": {
      "text/plain": [
       "0       empty\n",
       "1       empty\n",
       "2       empty\n",
       "3       empty\n",
       "4       empty\n",
       "        ...  \n",
       "3258    empty\n",
       "3259    empty\n",
       "3260    empty\n",
       "3261    empty\n",
       "3262    empty\n",
       "Name: location, Length: 3263, dtype: object"
      ]
     },
     "execution_count": 56,
     "metadata": {},
     "output_type": "execute_result"
    }
   ],
   "source": [
    "nltk.download('omw-1.4')\n",
    "# Lemmatize\n",
    "df1['text'].apply(lambda x : wordnet.lemmatize(x))\n",
    "df1['keyword'].apply(lambda x : wordnet.lemmatize(x))\n",
    "df1['location'].apply(lambda x : wordnet.lemmatize(x))"
   ]
  },
  {
   "cell_type": "code",
   "execution_count": 57,
   "id": "995923fb",
   "metadata": {
    "execution": {
     "iopub.execute_input": "2024-02-14T15:17:15.243584Z",
     "iopub.status.busy": "2024-02-14T15:17:15.243148Z",
     "iopub.status.idle": "2024-02-14T15:17:15.320880Z",
     "shell.execute_reply": "2024-02-14T15:17:15.319522Z"
    },
    "papermill": {
     "duration": 0.112761,
     "end_time": "2024-02-14T15:17:15.323842",
     "exception": false,
     "start_time": "2024-02-14T15:17:15.211081",
     "status": "completed"
    },
    "tags": []
   },
   "outputs": [],
   "source": [
    "# Commit to Table\n",
    "df1['text'] = df1['text'].apply(lambda x : wordnet.lemmatize(x))\n",
    "df1['keyword'] = df1['keyword'].apply(lambda x : wordnet.lemmatize(x))\n",
    "df1['location'] = df1['location'].apply(lambda x : wordnet.lemmatize(x))"
   ]
  },
  {
   "cell_type": "code",
   "execution_count": 58,
   "id": "93b40d7a",
   "metadata": {
    "execution": {
     "iopub.execute_input": "2024-02-14T15:17:15.386088Z",
     "iopub.status.busy": "2024-02-14T15:17:15.385686Z",
     "iopub.status.idle": "2024-02-14T15:17:15.398763Z",
     "shell.execute_reply": "2024-02-14T15:17:15.397597Z"
    },
    "papermill": {
     "duration": 0.046327,
     "end_time": "2024-02-14T15:17:15.401030",
     "exception": false,
     "start_time": "2024-02-14T15:17:15.354703",
     "status": "completed"
    },
    "tags": []
   },
   "outputs": [
    {
     "data": {
      "text/html": [
       "<div>\n",
       "<style scoped>\n",
       "    .dataframe tbody tr th:only-of-type {\n",
       "        vertical-align: middle;\n",
       "    }\n",
       "\n",
       "    .dataframe tbody tr th {\n",
       "        vertical-align: top;\n",
       "    }\n",
       "\n",
       "    .dataframe thead th {\n",
       "        text-align: right;\n",
       "    }\n",
       "</style>\n",
       "<table border=\"1\" class=\"dataframe\">\n",
       "  <thead>\n",
       "    <tr style=\"text-align: right;\">\n",
       "      <th></th>\n",
       "      <th>id</th>\n",
       "      <th>keyword</th>\n",
       "      <th>location</th>\n",
       "      <th>text</th>\n",
       "      <th>text_length1</th>\n",
       "    </tr>\n",
       "  </thead>\n",
       "  <tbody>\n",
       "    <tr>\n",
       "      <th>0</th>\n",
       "      <td>0</td>\n",
       "      <td>empty</td>\n",
       "      <td>empty</td>\n",
       "      <td>happened terrible car crash</td>\n",
       "      <td>34</td>\n",
       "    </tr>\n",
       "    <tr>\n",
       "      <th>1</th>\n",
       "      <td>2</td>\n",
       "      <td>empty</td>\n",
       "      <td>empty</td>\n",
       "      <td>heard earthquake different cities stay safe ev...</td>\n",
       "      <td>64</td>\n",
       "    </tr>\n",
       "    <tr>\n",
       "      <th>2</th>\n",
       "      <td>3</td>\n",
       "      <td>empty</td>\n",
       "      <td>empty</td>\n",
       "      <td>forest fire spot pond geese fleeing across str...</td>\n",
       "      <td>96</td>\n",
       "    </tr>\n",
       "    <tr>\n",
       "      <th>3</th>\n",
       "      <td>9</td>\n",
       "      <td>empty</td>\n",
       "      <td>empty</td>\n",
       "      <td>apocalypse lighting spokane wildfires</td>\n",
       "      <td>40</td>\n",
       "    </tr>\n",
       "    <tr>\n",
       "      <th>4</th>\n",
       "      <td>11</td>\n",
       "      <td>empty</td>\n",
       "      <td>empty</td>\n",
       "      <td>typhoon soudelor kills 28 china taiwan</td>\n",
       "      <td>45</td>\n",
       "    </tr>\n",
       "  </tbody>\n",
       "</table>\n",
       "</div>"
      ],
      "text/plain": [
       "   id keyword location                                               text  \\\n",
       "0   0   empty    empty                        happened terrible car crash   \n",
       "1   2   empty    empty  heard earthquake different cities stay safe ev...   \n",
       "2   3   empty    empty  forest fire spot pond geese fleeing across str...   \n",
       "3   9   empty    empty              apocalypse lighting spokane wildfires   \n",
       "4  11   empty    empty             typhoon soudelor kills 28 china taiwan   \n",
       "\n",
       "   text_length1  \n",
       "0            34  \n",
       "1            64  \n",
       "2            96  \n",
       "3            40  \n",
       "4            45  "
      ]
     },
     "execution_count": 58,
     "metadata": {},
     "output_type": "execute_result"
    }
   ],
   "source": [
    "df1.head()"
   ]
  },
  {
   "cell_type": "code",
   "execution_count": 59,
   "id": "c64db2a3",
   "metadata": {
    "execution": {
     "iopub.execute_input": "2024-02-14T15:17:15.463256Z",
     "iopub.status.busy": "2024-02-14T15:17:15.462761Z",
     "iopub.status.idle": "2024-02-14T15:17:15.480788Z",
     "shell.execute_reply": "2024-02-14T15:17:15.479431Z"
    },
    "papermill": {
     "duration": 0.051644,
     "end_time": "2024-02-14T15:17:15.483068",
     "exception": false,
     "start_time": "2024-02-14T15:17:15.431424",
     "status": "completed"
    },
    "tags": []
   },
   "outputs": [
    {
     "data": {
      "text/html": [
       "<div>\n",
       "<style scoped>\n",
       "    .dataframe tbody tr th:only-of-type {\n",
       "        vertical-align: middle;\n",
       "    }\n",
       "\n",
       "    .dataframe tbody tr th {\n",
       "        vertical-align: top;\n",
       "    }\n",
       "\n",
       "    .dataframe thead th {\n",
       "        text-align: right;\n",
       "    }\n",
       "</style>\n",
       "<table border=\"1\" class=\"dataframe\">\n",
       "  <thead>\n",
       "    <tr style=\"text-align: right;\">\n",
       "      <th></th>\n",
       "      <th>id</th>\n",
       "      <th>keyword</th>\n",
       "      <th>location</th>\n",
       "      <th>text</th>\n",
       "      <th>text_length1</th>\n",
       "      <th>post_text_length1</th>\n",
       "    </tr>\n",
       "  </thead>\n",
       "  <tbody>\n",
       "    <tr>\n",
       "      <th>0</th>\n",
       "      <td>0</td>\n",
       "      <td>empty</td>\n",
       "      <td>empty</td>\n",
       "      <td>happened terrible car crash</td>\n",
       "      <td>34</td>\n",
       "      <td>27</td>\n",
       "    </tr>\n",
       "    <tr>\n",
       "      <th>1</th>\n",
       "      <td>2</td>\n",
       "      <td>empty</td>\n",
       "      <td>empty</td>\n",
       "      <td>heard earthquake different cities stay safe ev...</td>\n",
       "      <td>64</td>\n",
       "      <td>52</td>\n",
       "    </tr>\n",
       "    <tr>\n",
       "      <th>2</th>\n",
       "      <td>3</td>\n",
       "      <td>empty</td>\n",
       "      <td>empty</td>\n",
       "      <td>forest fire spot pond geese fleeing across str...</td>\n",
       "      <td>96</td>\n",
       "      <td>61</td>\n",
       "    </tr>\n",
       "    <tr>\n",
       "      <th>3</th>\n",
       "      <td>9</td>\n",
       "      <td>empty</td>\n",
       "      <td>empty</td>\n",
       "      <td>apocalypse lighting spokane wildfires</td>\n",
       "      <td>40</td>\n",
       "      <td>37</td>\n",
       "    </tr>\n",
       "    <tr>\n",
       "      <th>4</th>\n",
       "      <td>11</td>\n",
       "      <td>empty</td>\n",
       "      <td>empty</td>\n",
       "      <td>typhoon soudelor kills 28 china taiwan</td>\n",
       "      <td>45</td>\n",
       "      <td>38</td>\n",
       "    </tr>\n",
       "  </tbody>\n",
       "</table>\n",
       "</div>"
      ],
      "text/plain": [
       "   id keyword location                                               text  \\\n",
       "0   0   empty    empty                        happened terrible car crash   \n",
       "1   2   empty    empty  heard earthquake different cities stay safe ev...   \n",
       "2   3   empty    empty  forest fire spot pond geese fleeing across str...   \n",
       "3   9   empty    empty              apocalypse lighting spokane wildfires   \n",
       "4  11   empty    empty             typhoon soudelor kills 28 china taiwan   \n",
       "\n",
       "   text_length1  post_text_length1  \n",
       "0            34                 27  \n",
       "1            64                 52  \n",
       "2            96                 61  \n",
       "3            40                 37  \n",
       "4            45                 38  "
      ]
     },
     "execution_count": 59,
     "metadata": {},
     "output_type": "execute_result"
    }
   ],
   "source": [
    "# Create Length Feature\n",
    "df1['post_text_length1'] = df1['text'].apply(lambda x : len(x))\n",
    "df1.head()"
   ]
  },
  {
   "cell_type": "code",
   "execution_count": 60,
   "id": "eeaa2b59",
   "metadata": {
    "execution": {
     "iopub.execute_input": "2024-02-14T15:17:15.548510Z",
     "iopub.status.busy": "2024-02-14T15:17:15.548118Z",
     "iopub.status.idle": "2024-02-14T15:17:15.788788Z",
     "shell.execute_reply": "2024-02-14T15:17:15.786792Z"
    },
    "papermill": {
     "duration": 0.279363,
     "end_time": "2024-02-14T15:17:15.795676",
     "exception": false,
     "start_time": "2024-02-14T15:17:15.516313",
     "status": "completed"
    },
    "tags": []
   },
   "outputs": [
    {
     "data": {
      "text/html": [
       "<div>\n",
       "<style scoped>\n",
       "    .dataframe tbody tr th:only-of-type {\n",
       "        vertical-align: middle;\n",
       "    }\n",
       "\n",
       "    .dataframe tbody tr th {\n",
       "        vertical-align: top;\n",
       "    }\n",
       "\n",
       "    .dataframe thead th {\n",
       "        text-align: right;\n",
       "    }\n",
       "</style>\n",
       "<table border=\"1\" class=\"dataframe\">\n",
       "  <thead>\n",
       "    <tr style=\"text-align: right;\">\n",
       "      <th></th>\n",
       "      <th>0</th>\n",
       "    </tr>\n",
       "  </thead>\n",
       "  <tbody>\n",
       "    <tr>\n",
       "      <th>0</th>\n",
       "      <td>1</td>\n",
       "    </tr>\n",
       "    <tr>\n",
       "      <th>1</th>\n",
       "      <td>1</td>\n",
       "    </tr>\n",
       "    <tr>\n",
       "      <th>2</th>\n",
       "      <td>1</td>\n",
       "    </tr>\n",
       "    <tr>\n",
       "      <th>3</th>\n",
       "      <td>1</td>\n",
       "    </tr>\n",
       "    <tr>\n",
       "      <th>4</th>\n",
       "      <td>1</td>\n",
       "    </tr>\n",
       "  </tbody>\n",
       "</table>\n",
       "</div>"
      ],
      "text/plain": [
       "   0\n",
       "0  1\n",
       "1  1\n",
       "2  1\n",
       "3  1\n",
       "4  1"
      ]
     },
     "execution_count": 60,
     "metadata": {},
     "output_type": "execute_result"
    }
   ],
   "source": [
    "#test predicitons\n",
    "X_test_cv1 = cv.transform(df1['text']).toarray()\n",
    "y_test_pred = nb.predict(X_test_cv1)\n",
    "\n",
    "# Convert predictions to a DataFrame\n",
    "df3 = pd.DataFrame(y_test_pred)\n",
    "df3.head()"
   ]
  },
  {
   "cell_type": "markdown",
   "id": "4090d670",
   "metadata": {
    "papermill": {
     "duration": 0.033524,
     "end_time": "2024-02-14T15:17:15.895756",
     "exception": false,
     "start_time": "2024-02-14T15:17:15.862232",
     "status": "completed"
    },
    "tags": []
   },
   "source": [
    "## Create Submission File Code"
   ]
  },
  {
   "cell_type": "code",
   "execution_count": 61,
   "id": "4a86adb3",
   "metadata": {
    "execution": {
     "iopub.execute_input": "2024-02-14T15:17:15.960889Z",
     "iopub.status.busy": "2024-02-14T15:17:15.960418Z",
     "iopub.status.idle": "2024-02-14T15:17:15.991652Z",
     "shell.execute_reply": "2024-02-14T15:17:15.990485Z"
    },
    "papermill": {
     "duration": 0.067014,
     "end_time": "2024-02-14T15:17:15.994411",
     "exception": false,
     "start_time": "2024-02-14T15:17:15.927397",
     "status": "completed"
    },
    "tags": []
   },
   "outputs": [],
   "source": [
    "df1 = pd.read_csv('/kaggle/input/ipba-17-nlp-with-disaster-tweets-2024/test.csv')\n",
    "# Create a DataFrame with IDs and predictions\n",
    "submission_df = pd.DataFrame({'id': df1['id'], 'target': df3[0]})\n",
    "\n",
    "# Save the DataFrame to a CSV file (adjust the filename as needed)\n",
    "submission_df.to_csv('/kaggle/working/submission.csv', index=False)"
   ]
  }
 ],
 "metadata": {
  "kaggle": {
   "accelerator": "none",
   "dataSources": [
    {
     "databundleVersionId": 7630642,
     "sourceId": 68790,
     "sourceType": "competition"
    }
   ],
   "dockerImageVersionId": 30646,
   "isGpuEnabled": false,
   "isInternetEnabled": true,
   "language": "python",
   "sourceType": "notebook"
  },
  "kernelspec": {
   "display_name": "Python 3",
   "language": "python",
   "name": "python3"
  },
  "language_info": {
   "codemirror_mode": {
    "name": "ipython",
    "version": 3
   },
   "file_extension": ".py",
   "mimetype": "text/x-python",
   "name": "python",
   "nbconvert_exporter": "python",
   "pygments_lexer": "ipython3",
   "version": "3.10.13"
  },
  "papermill": {
   "default_parameters": {},
   "duration": 20.029205,
   "end_time": "2024-02-14T15:17:17.150667",
   "environment_variables": {},
   "exception": null,
   "input_path": "__notebook__.ipynb",
   "output_path": "__notebook__.ipynb",
   "parameters": {},
   "start_time": "2024-02-14T15:16:57.121462",
   "version": "2.5.0"
  }
 },
 "nbformat": 4,
 "nbformat_minor": 5
}
